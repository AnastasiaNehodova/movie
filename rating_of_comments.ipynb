{
 "cells": [
  {
   "cell_type": "markdown",
   "id": "e859088a",
   "metadata": {
    "toc": true
   },
   "source": [
    "<h1>Table of Contents<span class=\"tocSkip\"></span></h1>\n",
    "<div class=\"toc\"><ul class=\"toc-item\"><li><span><a href=\"#Описание-задания\" data-toc-modified-id=\"Описание-задания-1\"><span class=\"toc-item-num\">1&nbsp;&nbsp;</span>Описание задания</a></span></li><li><span><a href=\"#Необходимые-библиотеки\" data-toc-modified-id=\"Необходимые-библиотеки-2\"><span class=\"toc-item-num\">2&nbsp;&nbsp;</span>Необходимые библиотеки</a></span></li><li><span><a href=\"#Формирование-датасетов\" data-toc-modified-id=\"Формирование-датасетов-3\"><span class=\"toc-item-num\">3&nbsp;&nbsp;</span>Формирование датасетов</a></span></li><li><span><a href=\"#Подготовка-данных\" data-toc-modified-id=\"Подготовка-данных-4\"><span class=\"toc-item-num\">4&nbsp;&nbsp;</span>Подготовка данных</a></span></li><li><span><a href=\"#Обучение\" data-toc-modified-id=\"Обучение-5\"><span class=\"toc-item-num\">5&nbsp;&nbsp;</span>Обучение</a></span><ul class=\"toc-item\"><li><span><a href=\"#Мешок-слов\" data-toc-modified-id=\"Мешок-слов-5.1\"><span class=\"toc-item-num\">5.1&nbsp;&nbsp;</span>Мешок слов</a></span><ul class=\"toc-item\"><li><span><a href=\"#LinearRegression,-Lasso,-Ridge-+-unigram\" data-toc-modified-id=\"LinearRegression,-Lasso,-Ridge-+-unigram-5.1.1\"><span class=\"toc-item-num\">5.1.1&nbsp;&nbsp;</span>LinearRegression, Lasso, Ridge + unigram</a></span></li><li><span><a href=\"#Ridge-+-unigram-+-bigram\" data-toc-modified-id=\"Ridge-+-unigram-+-bigram-5.1.2\"><span class=\"toc-item-num\">5.1.2&nbsp;&nbsp;</span>Ridge + unigram + bigram</a></span></li><li><span><a href=\"#LGBMRegressor--+-unigram\" data-toc-modified-id=\"LGBMRegressor--+-unigram-5.1.3\"><span class=\"toc-item-num\">5.1.3&nbsp;&nbsp;</span>LGBMRegressor  + unigram</a></span></li><li><span><a href=\"#LGBMRegressor-+-unigram-+-bigram\" data-toc-modified-id=\"LGBMRegressor-+-unigram-+-bigram-5.1.4\"><span class=\"toc-item-num\">5.1.4&nbsp;&nbsp;</span>LGBMRegressor + unigram + bigram</a></span></li></ul></li><li><span><a href=\"#TF-IDF\" data-toc-modified-id=\"TF-IDF-5.2\"><span class=\"toc-item-num\">5.2&nbsp;&nbsp;</span>TF-IDF</a></span><ul class=\"toc-item\"><li><span><a href=\"#Ridge-+-TF-IDF-+-unigram\" data-toc-modified-id=\"Ridge-+-TF-IDF-+-unigram-5.2.1\"><span class=\"toc-item-num\">5.2.1&nbsp;&nbsp;</span>Ridge + TF-IDF + unigram</a></span></li><li><span><a href=\"#Ridge-+-TF-IDF-+-unigram-+-bigram\" data-toc-modified-id=\"Ridge-+-TF-IDF-+-unigram-+-bigram-5.2.2\"><span class=\"toc-item-num\">5.2.2&nbsp;&nbsp;</span>Ridge + TF-IDF + unigram + bigram</a></span></li><li><span><a href=\"#LGBM-+-TF-IDF-+-unigram\" data-toc-modified-id=\"LGBM-+-TF-IDF-+-unigram-5.2.3\"><span class=\"toc-item-num\">5.2.3&nbsp;&nbsp;</span>LGBM + TF-IDF + unigram</a></span></li></ul></li><li><span><a href=\"#Выводы\" data-toc-modified-id=\"Выводы-5.3\"><span class=\"toc-item-num\">5.3&nbsp;&nbsp;</span>Выводы</a></span></li></ul></li><li><span><a href=\"#Оценка-лучшей-модели\" data-toc-modified-id=\"Оценка-лучшей-модели-6\"><span class=\"toc-item-num\">6&nbsp;&nbsp;</span>Оценка лучшей модели</a></span><ul class=\"toc-item\"><li><span><a href=\"#Параметры-лучшей-модели\" data-toc-modified-id=\"Параметры-лучшей-модели-6.1\"><span class=\"toc-item-num\">6.1&nbsp;&nbsp;</span>Параметры лучшей модели</a></span></li><li><span><a href=\"#Оценки-RMSE-для-лучшей-модели\" data-toc-modified-id=\"Оценки-RMSE-для-лучшей-модели-6.2\"><span class=\"toc-item-num\">6.2&nbsp;&nbsp;</span>Оценки RMSE для лучшей модели</a></span></li><li><span><a href=\"#Решающие-слова\" data-toc-modified-id=\"Решающие-слова-6.3\"><span class=\"toc-item-num\">6.3&nbsp;&nbsp;</span>Решающие слова</a></span></li><li><span><a href=\"#Преобразование-вещественных-предсказаний-в-оценки\" data-toc-modified-id=\"Преобразование-вещественных-предсказаний-в-оценки-6.4\"><span class=\"toc-item-num\">6.4&nbsp;&nbsp;</span>Преобразование вещественных предсказаний в оценки</a></span></li><li><span><a href=\"#Преобразование-вещественных-предсказаний-в--статус-комментария-(положительный-или-отрицательный)\" data-toc-modified-id=\"Преобразование-вещественных-предсказаний-в--статус-комментария-(положительный-или-отрицательный)-6.5\"><span class=\"toc-item-num\">6.5&nbsp;&nbsp;</span>Преобразование вещественных предсказаний в  статус комментария (положительный или отрицательный)</a></span></li></ul></li></ul></div>"
   ]
  },
  {
   "cell_type": "markdown",
   "id": "83b90c9c",
   "metadata": {},
   "source": [
    "## Описание задания"
   ]
  },
  {
   "cell_type": "markdown",
   "id": "769ec656",
   "metadata": {},
   "source": [
    "1. Обучить модель на языке Python для классификации отзывов.\n",
    "2. Разработать веб-сервис на базе фреймворка Django для ввода отзыва о фильме с автоматическим\n",
    "присвоением рейтинга (от 1 до 10) и статуса комментария (положительный или отрицательный).\n",
    "3. Развернуть сервис в открытом доступе для оценки работоспособности прототипа.\n",
    "4. Подготовить отчет о работе с оценкой точности полученного результата на тестовой выборке.\n",
    "5. Отправить ответным письмом ссылку на прототип сервиса, ссылку на открытый репозиторий github\n",
    "с исходным кодом проекта, отчет о проделанной работе в формате pdf."
   ]
  },
  {
   "cell_type": "markdown",
   "id": "330bc03e",
   "metadata": {},
   "source": [
    "## Необходимые библиотеки"
   ]
  },
  {
   "cell_type": "code",
   "execution_count": 119,
   "id": "5a6f0127",
   "metadata": {},
   "outputs": [],
   "source": [
    "import glob\n",
    "import os\n",
    "import numpy as np\n",
    "import pandas as pd\n",
    "import seaborn as sns\n",
    "import matplotlib.pyplot as plt\n",
    "from IPython.display import display\n",
    "import re\n",
    "from tqdm.auto import tqdm\n",
    "import nltk\n",
    "from nltk.corpus import stopwords, wordnet\n",
    "from nltk.stem import WordNetLemmatizer \n",
    "from nltk.tokenize import word_tokenize\n",
    "from sklearn.pipeline import Pipeline\n",
    "from sklearn.feature_extraction.text import CountVectorizer, TfidfVectorizer\n",
    "from sklearn.model_selection import RandomizedSearchCV, GridSearchCV\n",
    "from sklearn.linear_model import LinearRegression, Lasso, Ridge\n",
    "from lightgbm import LGBMRegressor\n",
    "from sklearn.metrics import mean_absolute_error, mean_squared_error, accuracy_score, confusion_matrix\n",
    "import pickle\n",
    "from sklearn.dummy import DummyRegressor, DummyClassifier\n",
    "import warnings\n",
    "warnings.filterwarnings(\"ignore\")"
   ]
  },
  {
   "cell_type": "code",
   "execution_count": 2,
   "id": "00c92169",
   "metadata": {},
   "outputs": [
    {
     "name": "stderr",
     "output_type": "stream",
     "text": [
      "[nltk_data] Downloading package averaged_perceptron_tagger to\n",
      "[nltk_data]     C:\\Users\\Admin\\AppData\\Roaming\\nltk_data...\n",
      "[nltk_data]   Package averaged_perceptron_tagger is already up-to-\n",
      "[nltk_data]       date!\n",
      "[nltk_data] Downloading package stopwords to\n",
      "[nltk_data]     C:\\Users\\Admin\\AppData\\Roaming\\nltk_data...\n",
      "[nltk_data]   Package stopwords is already up-to-date!\n",
      "[nltk_data] Downloading package wordnet to\n",
      "[nltk_data]     C:\\Users\\Admin\\AppData\\Roaming\\nltk_data...\n",
      "[nltk_data]   Package wordnet is already up-to-date!\n"
     ]
    },
    {
     "data": {
      "text/plain": [
       "True"
      ]
     },
     "execution_count": 2,
     "metadata": {},
     "output_type": "execute_result"
    }
   ],
   "source": [
    "nltk.download('averaged_perceptron_tagger')\n",
    "nltk.download('stopwords')\n",
    "nltk.download('wordnet')"
   ]
  },
  {
   "cell_type": "markdown",
   "id": "a7417be8",
   "metadata": {},
   "source": [
    "Импортирую необходимые библиотеки и произвожу загрузки."
   ]
  },
  {
   "cell_type": "code",
   "execution_count": 3,
   "id": "90fb709b",
   "metadata": {},
   "outputs": [],
   "source": [
    "RANDOM_STATE = 42"
   ]
  },
  {
   "cell_type": "markdown",
   "id": "41ed4c81",
   "metadata": {},
   "source": [
    "Задаю константу RANDOM_STATE для контроля случайности."
   ]
  },
  {
   "cell_type": "markdown",
   "id": "7149e089",
   "metadata": {},
   "source": [
    "## Формирование датасетов"
   ]
  },
  {
   "cell_type": "code",
   "execution_count": 4,
   "id": "9d68886c",
   "metadata": {},
   "outputs": [],
   "source": [
    "def get_comment_rating(file_path):\n",
    "    try:\n",
    "        with open(file_path, encoding=\"utf8\") as f:\n",
    "            comment = f.read()\n",
    "            base=os.path.basename(file_path)\n",
    "            rating = int(os.path.splitext(base)[0].split('_')[1])\n",
    "            return comment, rating\n",
    "    except:\n",
    "        print(f'{file_path} - файл не найден.')\n",
    "        return None, None"
   ]
  },
  {
   "cell_type": "markdown",
   "id": "6152ab60",
   "metadata": {},
   "source": [
    "Функция get_text_rating получает путь к файлу с комментарием, возвращает кортеж из текста комментария и рейтинга (он получен из имени файла)."
   ]
  },
  {
   "cell_type": "code",
   "execution_count": 5,
   "id": "c4c5fa10",
   "metadata": {},
   "outputs": [
    {
     "name": "stdout",
     "output_type": "stream",
     "text": [
      "comment:\n",
      "This movie was sooo bad. It wasn't even funny at all. Not even the sarcastic scenes were funny. Oh man, bad, so bad. Thumbs down. Spoofed, Karate Kid, Teen Wolf, Footloose, Dirty Dancing, Some Kind of Wonderful, Soul Man, and probably another or two. Chris Kattan at his very worst as the high school janitor who is a talented dancer, who runs a dance studio in a warehouse. He has a jealous girlfriend, who breaks her ankle and her dance spot goes to the cute blonde newcomer who Chris has eyes for. I thought the acting was really bad. I like laugh out loud comedies, this was not one. \"Not Another Teen Movie\" wasn't funny, but had a lot more funny scenes than Totally Awesome. \"Scary Movie\" is suuuper funny. I always laugh when I watch those, super enjoyable. This movie, not funny.\n",
      "rating:\n",
      "1\n"
     ]
    }
   ],
   "source": [
    "comment, rating = get_comment_rating(r'.\\data\\test\\neg\\12499_1.txt')\n",
    "print('comment:', comment, sep='\\n')\n",
    "print('rating:', rating, sep='\\n')"
   ]
  },
  {
   "cell_type": "code",
   "execution_count": 6,
   "id": "6753afdb",
   "metadata": {},
   "outputs": [],
   "source": [
    "def get_df_comments_ratings(folder_path):\n",
    "    file_paths = glob.glob(os.path.join(folder_path, '*.txt')) \n",
    "    comments = []\n",
    "    ratings = []\n",
    "    for file_path in file_paths:\n",
    "        comment, rating = get_comment_rating(file_path)\n",
    "        comments.append(comment)\n",
    "        ratings.append(rating)\n",
    "    df = pd.DataFrame({'comment':comments, 'rating': ratings})\n",
    "    return df"
   ]
  },
  {
   "cell_type": "markdown",
   "id": "63da13ca",
   "metadata": {},
   "source": [
    "Функция get_df_comments_ratings принимат путь к папке, в которой хранятся текстовые файлы и возвращает датасет с комментариями и рейтингами."
   ]
  },
  {
   "cell_type": "code",
   "execution_count": 7,
   "id": "2982f51e",
   "metadata": {},
   "outputs": [],
   "source": [
    "folder_path = r'.\\data\\train\\neg'\n",
    "df_train_neg = get_df_comments_ratings(folder_path)\n",
    "\n",
    "folder_path = r'.\\data\\train\\pos'\n",
    "df_train_pos = get_df_comments_ratings(folder_path)\n",
    "\n",
    "folder_path = r'.\\data\\test\\neg'\n",
    "df_test_neg = get_df_comments_ratings(folder_path)\n",
    "\n",
    "folder_path = r'.\\data\\test\\pos'\n",
    "df_test_pos = get_df_comments_ratings(folder_path)"
   ]
  },
  {
   "cell_type": "code",
   "execution_count": 8,
   "id": "5be2c23a",
   "metadata": {
    "scrolled": false
   },
   "outputs": [
    {
     "name": "stdout",
     "output_type": "stream",
     "text": [
      "-------------------------------\n",
      "Негативные оценки:\n",
      "-------------------------------\n",
      "It's getting worse, the series is on a serious down fall. The first two sequel were acceptable and from then on we have seen a buch of really, really terrible movies. Robert Englund gives another great performance as Freddy but the rest of the cast can't act. The story is Alice, having survived the previous installment of the Nightmare series, finds the deadly dreams of Freddy Krueger starting once again. This time, the taunting murderer is striking through the sleeping mind of Alice's unborn child. His intention is to be \"born again\" into the real world. The only one who can stop Freddy is his dead mother, but can Alice free her spirit in time to save her own son? Check out the first three, miss the next three then watch the last one.\n",
      "\n",
      "This movie seemed like it was going to be better than it ended up being. The cinematography is good, the acting seemed solid, the dialogue wasn't too stiff... but then about twenty minutes in there's this long scene with a Doctor who you know is actually a patient at the asylum pretending to be a Doctor - and it just goes south from there.<br /><br />On top of that, the demon is about the silliest looking hellspawn since the Godzilla-looking thing in Curse of the Demon. There's also some odd demon worshippers who wear masks that look like the exploding teens from the beginning of Logan's Run.<br /><br />In the end, the cinematography couldn't save this movie. Despite some pretty solid performances by the actors, the story just doesn't go anywhere. I think \"Hellbored\" would have been a better title for this.\n",
      "\n",
      "I wanted to see it because of two reasons. One, it was the remake of High Sierra with Bogart, two, the Bogart part was played by Jack Palance, whom can play dramatic roles with some subtility, as in The Big Knife.<br /><br />But now I wonder why they decided to shoot this remake. The film follows the same plot as Hig Sierra; only here, the actors don't care, the director is lost in his thoughts, and who knows what the producer was thinking. Jack Palance is getting bored looking at Shelley Winters and Shelley Winters is asking herself what she's doing in this film. I don't even want to compare her to Ida Lupino in the same role. And of course, they had to use the dog story again! They surely could have come up with some different ideas. Perhaps the color makes it nice to see the same location where they shot High Sierra, but that definitely doesn't add any quality to the film.<br /><br />It's a waste of time if you've seen High Sierra before. Otherwise, why not see a pseudo-film noir. As for me, I'd rather die than see it one more time...\n",
      "\n",
      "Where do I start? First off, the story sucks. The acting sucks, the effects really suck, I guess I'll start with the story. The story for Komodo vs. Cobra: number one, it doesn't explain how or when the Komodo and the cobra even got there. Or for that matter, how it was created. The acting: TERRIBLE! It seems like the director just pulled a few people from the street (which is probably what he did). And last and definitely the least, the effects: they are so horrible that the komodo doesn't even look like a komodo, just a dinosaur, that looks incredibly unrealistic. The water doesn't even move when the cobra appears. All in all: terrible piece of crap, don't even think about renting it.\n",
      "\n",
      "This movie sucks so bad. Its funny to see what a poor story this has, where two pea-brained American twins who know about nothing outside their school can come to another continent, and do unimaginable things there. Its just so stupid and so bizarre. How can they just find two French guys, hit on them and in the end kiss them, not knowing anything about them? More realistic would have been having the guys take them away and rape them, which could have easily happened in such a situation. As for the bit where they make the French President drink 'bad water', that was just lame. I don't think he would have been too pleased in real life. Everything worked out too easily for the girls, and they could have been in real trouble many times in the movie, if it at all depicted real life.<br /><br />My Rating : 0 / 10\n",
      "\n",
      "Tyra Banks needs to teach these girls that it's not all about being beautiful on the outside. The inside counts for something too. A lot of the past winners have looked semi decent but are horribly cruel and starting trouble for the other girls. I see Tyra less involved with the girls in every season. About the only thing worth watching Top Model for is Mr. Jay Manuel. Recently, Tyra had a contestant who was a pre-op transsexual. I felt that she should have done more to encourage her. It was obvious that she had insecurities about her original anatomy showing through her feminine look. Tyra should have given her tips or perhaps she could have sent resident Trannie Ms. Jay to help the girl out. Instead, the contestant was met with harsh criticism and not enough positive criticism. It's a shame because I truly enjoyed the first 3 seasons. There's a reason why Project Runway has all 4 seasons out on DVD and Top Model only has 1 season on DVD. It's called taste. Top Model seriously needs a lot of revamping an some more humanity.\n",
      "\n",
      "-------------------------------\n",
      "Позитивные оценки:\n",
      "-------------------------------\n",
      "Oh, the sixties. There were some interesting films. I was more of a movie goer then. I now enjoy renting movies and relaxing in my home rather than going to the theater. I also saw this short film, \" The Legend of the Boy and the Eagle\". I have been searching for this film for years. It was truly inspiring. Surprisingly, I was finally able to gather more information from your site. Thank You........ I'm surprised to find out that this short film was an opening for a Disney picture. I too did not remember the Disney film. I did not even remember that it was an opening film for Disney. I truly wish they would show this on TV sometime. I wonder if Disey holds the rights to this film? Is it available on DVD? This is a must see for all generations!!!\n",
      "\n",
      "Tian's remake is no good at all. I only click on his remake documentary to see Wei Wei, the original actress back in the classic 1948 film say a few words to the crew. We are going to meet Wei Wei this Sunday (28/3/2010) after the showing of Xiao Cheng Zhi Chun in the Hong Kong Film Archiev. Wei Wei is almost 90 years old in silver hair, her cameo appearance in Hong Kong films is always a surprise to her fans. In this year's Hong Kong Film Festival, a special program is dedicated to Fei Mu, director of this epic movie and Wei Wei's still shot from the movie is being seen all around in Hong Kong. My son, who turns 21 this year, is surprised Wei Wei was so beautiful then.\n",
      "\n",
      "'The Last Wave' is far more than the sum of its parts. It's not merely a disaster film, not simply an exploration into Australian Aboriginal spirituality, and certainly more than a simple court drama. Writer/Director Peter Weir manages to take these elements to the next level to produce a truly effective and thought-provoking film with the same eerie atmosphere he gave to 'Picnic At Hanging Rock' two years earlier, that you will continue to remember years later.<br /><br />When lawyer David Burton (Chamberlain) is called to defend Chris Lee (Gulpilil) over the death of an Aboriginal for which he may or may not be directly responsible, he finds himself not merely struggling to get the truth from Lee, but making sense of what he hears when it does come. As with the Aboriginal belief that there are two worlds - the everyday and the Dreamtime, the truth exists on two completely different levels, with ramifications more disastrous than Burton could ever have imagined.<br /><br />No doubt the reason why 'Picnic At Hanging Rock' is better remembered is because of its enduring mystery. We are led along the same path but forced to find answers for ourselves. In 'The Last Wave', we can piece everything together by the end of the film. However, even with all the information, we have to choose how much of it we want to believe, because the film takes us beyond the borders of our normal realities.<br /><br />On the production side, Weir uses his budget to great effect, progressively building a sense of doom in everything from soft lighting, to heavy rain, to good use of sound. The incidental music is unobtrusive, never trying to be grandiose. Richard Chamberlain manages to convey the bafflement the audience would doubtless feel as he tries to unravel the mystery. David Gulpilil excellently portrays a man trapped between two worlds, wanting to do the right thing, but afraid because he already knows the ending.<br /><br />Put all these things together, and you have a perfect example of why David Weir is a familiar name in cinema thirty years on. Strongly recommended.\n",
      "\n",
      "Alejandro Amenabar, the young and talented Spanish director, clearly shows us he is a serious film maker. Anyone doubting it, should have a look at his latest film \"The Sea Inside\". This is a movie that has been rewarded with numerous accolades, not only in Spain, but throughout the world, wherever this wonderful movie has been shown.<br /><br />If you have not seen the film, perhaps you would like to stop here.<br /><br />Ramon Sampedro is a man confined to bed. Being quadriplegic, he depends on the kindness of strangers for everything. Since his accident, Ramon only thinks in one thing alone: how to end his life! This is the moral issue at the center of the story, based on the real Ramon Sampedro's life.<br /><br />Mr. Amenabar tells the story from Ramon's point of view. There is nothing here that is false or manipulative on his part. After all, he relies on facts that were well known in his country as this case became a \"cause celebre\" in favor of euthanasia, a theme that no one in that country wanted to deal with in Spain.<br /><br />With its background of being a predominantly Roman Catholic country, Spain has evolved into one of the most democratic societies in Europe, a distinction that is more notable because of its long years dominated by a dictator. Yet, in spite of the advances in that society, the idea of taking one's own life, is something not clearly understood by the majority of its citizens, who still considered this subject as something that could not be done in their country.<br /><br />Ramon Sampedro was a man that loved life. He lived an intense life as a young man when he enlisted as a sailor to discover the world. Having no money, this was the only way for him to see other lands, experience other cultures. Ramon's love affair with the sea, is something that people in Galicia learn to love from their childhood. Imagine how that same friendly sea is the one that takes away Ramon's life, as he knew it! In a second, Ramon goes from a vibrant young man into a vegetable!<br /><br />Ramon's family is shattered by the experience. Suddenly they must leave everything aside to take care of him at home. His brother and sister-in-law, are stoic people that deal with the situation as a matter of fact. Their lives become something of an afterthought, because Ramon's life comes first. They tend to the sick man without protesting, or blaming Ramon for the sacrifices they must make to keep him alive.<br /><br />That is why, in their minds, the Sampedros can't comprehend Ramon's wishes to end it all. Haven't they given up having a normal life to take care of him? This moral issue weighs heavily on these uncomplicated and simple people because in their minds, they are doing what came naturally.<br /><br />The second subject of the movie is the legal issue of the euthanasia and the well meaning people that suddenly enter Ramon's life in their desire to help him put an end to his suffering. There's Julia, the lawyer who is herself handicapped and suffers from a rare malady. There is Rosa, the fish cannery worker who becomes infatuated with Ramon. <br /><br />Javier Bardem, makes a brilliant Ramon Sampedro. His transformation is total. We don't doubt from one moment he is no one else but the paralyzed man on that bed. Mr. Bardem can only use his face in order to convey all the emotions trapped inside Ramon. Mr. Bardem makes this man real. This is perhaps Javier Bardem's best role of his career. He surpasses his own award winning performance as Reynaldo Arenas, the late Cuban poet he portrayed in \"Before Night Falls\". <br /><br />In the supporting roles, Belen Rueda, makes an impressive appearance as Julia, the woman fighting her own physical problems. Lola Duenas is also effective as Rosa, the kindred soul that loves Ramon deeply. Celso Bugallo, as Ramon's brother shows a man at a crossroads of his own life. Mabel Rivera makes a compassionate Manuela, the sister-in-law that never asks anything of life, but tends to Ramon without questioning why she has to do it, at all.<br /><br />Mr. Amenabar also has composed the haunting music score for the film. He is a man that never cease to surprise. One wonders what his next project will be, but one wishes him success in whatever he might decide to do in the future.\n",
      "\n",
      "If you like Cagney you'll like this film. It has the pretense of American integrity at any cost, personal or social. Cagney plays the head of weights and measures in NYC. Cagney goes up against crooked politicians, the criminal underground, a prominent philanthropist and simple grocers who add a few ounces to the price of a chicken. The chicken scene is hilarious where Cagney finds a weight placed in the bird cavity by an unsuspecting butcher. The chicken gets tossed around the shop in a hilarious scene about who controls the \"evidence\". If you like old telephones there are interesting scenes of dials, phones and even bizarre phone cords. Compared to a lot of film made today this is pure entertainment and includes mystery with comedy and a message that honesty above all should be the guiding principle of humanity. Made in simpler times it reflects a world we can't find today. The fashion (especially hats) outwear and automobiles all play a prominent visual role in defining this little film.\n",
      "\n",
      "We are in a small town, a homely widow (Ida Lupino) hires a handyman (Robert Ryan) to look after her house. She soon starts to regret it as Ryan grows erratic by the hour, it appears that she is host to a dangerous schizophrenic, and now she is unable to escape her house.<br /><br />Beware, My Lovely is adapted from Mel Dinelli's {The Spiral Staircase} story and play called \"The Man\". Pretty much a one set movie and a two character driven piece, the film boasts two great central performances and offers up an interesting take on mental illness. One however shouldn't be fooled into thinking this is a violent and nerve shredding picture, because it isn't. It's clear from the get go that Ryan's Howard Wilton is a dangerously troubled man, but this is a different sort of \"peril\" movie. One that throws up another slant on psychosis and thus makes it difficult to hate our dangerous protagonist.<br /><br />Ryan and Lupino are a great combination, they had also done the excellent, and far better, On Dangerous Ground this same year. So with both actors clearly comfortable together, it brings out a finely tuned character story all based in the confines of one house, re: prison. Ryan is particularly strong as his character flits in and out of madness, with some scenes powerful and at times inducing fear and at others garnering deep sympathy. The direction from Harry Horner is safe {he in truth doesn't have to do much other than let his actors run with it} and George E. Diskant's cinematography contains some smart and impacting visual touches. With one involving Christmas tree baubles immensely memorable. Falling some where in between being average and great, Beware, My Lovely has enough about it to make it a recommendation to fans of borderline and easy to follow Film-Noir. For fans of Robert Ryan tho, it's something of an essential viewing, oh yes, and then some. 7/10\n",
      "\n"
     ]
    }
   ],
   "source": [
    "print('-------------------------------')\n",
    "print('Негативные оценки:')\n",
    "print('-------------------------------')\n",
    "for comment in df_train_neg.comment.sample(3, random_state=RANDOM_STATE):\n",
    "    print(comment, end='\\n\\n')\n",
    "for comment in df_test_neg.comment.sample(3, random_state=RANDOM_STATE):\n",
    "    print(comment, end='\\n\\n')\n",
    "print('-------------------------------')\n",
    "print('Позитивные оценки:')\n",
    "print('-------------------------------')\n",
    "for comment in df_train_pos.comment.sample(3, random_state=RANDOM_STATE):\n",
    "    print(comment, end='\\n\\n')\n",
    "for comment in df_test_pos.comment.sample(3, random_state=RANDOM_STATE):\n",
    "    print(comment, end='\\n\\n')"
   ]
  },
  {
   "cell_type": "markdown",
   "id": "25a0e4ee",
   "metadata": {},
   "source": [
    "Посмотрела на качество разметки по 3 комментариям из обучения и теста, размеченным как негативные и по 3 комментариям из обучения и теста, размеченным как позитвные. Для этого набора разметка верна."
   ]
  },
  {
   "cell_type": "code",
   "execution_count": 9,
   "id": "4cf0425c",
   "metadata": {},
   "outputs": [],
   "source": [
    "df_train = pd.concat([df_train_neg, df_train_pos], ignore_index=True)\n",
    "df_test = pd.concat([df_test_neg, df_test_pos], ignore_index=True)"
   ]
  },
  {
   "cell_type": "code",
   "execution_count": 10,
   "id": "e11cfad7",
   "metadata": {},
   "outputs": [],
   "source": [
    "df_train.to_csv(r'.\\data\\train.csv', index=False)\n",
    "df_test.to_csv(r'.\\data\\test.csv', index=False)"
   ]
  },
  {
   "cell_type": "markdown",
   "id": "7d698777",
   "metadata": {},
   "source": [
    "Объединяю негативные и позитивные комментарии для обучения, то же делаю для теста."
   ]
  },
  {
   "cell_type": "markdown",
   "id": "d111f5ac",
   "metadata": {},
   "source": [
    "## Подготовка данных"
   ]
  },
  {
   "cell_type": "code",
   "execution_count": 11,
   "id": "802d0379",
   "metadata": {
    "scrolled": false
   },
   "outputs": [
    {
     "name": "stdout",
     "output_type": "stream",
     "text": [
      "-------------------------------\n",
      "Обучающая выборка:\n",
      "-------------------------------\n",
      "Количество пустых значений:\n"
     ]
    },
    {
     "data": {
      "text/plain": [
       "comment    0\n",
       "rating     0\n",
       "dtype: int64"
      ]
     },
     "metadata": {},
     "output_type": "display_data"
    },
    {
     "data": {
      "text/html": [
       "<div>\n",
       "<style scoped>\n",
       "    .dataframe tbody tr th:only-of-type {\n",
       "        vertical-align: middle;\n",
       "    }\n",
       "\n",
       "    .dataframe tbody tr th {\n",
       "        vertical-align: top;\n",
       "    }\n",
       "\n",
       "    .dataframe thead th {\n",
       "        text-align: right;\n",
       "    }\n",
       "</style>\n",
       "<table border=\"1\" class=\"dataframe\">\n",
       "  <thead>\n",
       "    <tr style=\"text-align: right;\">\n",
       "      <th></th>\n",
       "      <th>rating</th>\n",
       "    </tr>\n",
       "  </thead>\n",
       "  <tbody>\n",
       "    <tr>\n",
       "      <th>count</th>\n",
       "      <td>25000.000000</td>\n",
       "    </tr>\n",
       "    <tr>\n",
       "      <th>mean</th>\n",
       "      <td>5.477720</td>\n",
       "    </tr>\n",
       "    <tr>\n",
       "      <th>std</th>\n",
       "      <td>3.466477</td>\n",
       "    </tr>\n",
       "    <tr>\n",
       "      <th>min</th>\n",
       "      <td>1.000000</td>\n",
       "    </tr>\n",
       "    <tr>\n",
       "      <th>25%</th>\n",
       "      <td>2.000000</td>\n",
       "    </tr>\n",
       "    <tr>\n",
       "      <th>50%</th>\n",
       "      <td>5.500000</td>\n",
       "    </tr>\n",
       "    <tr>\n",
       "      <th>75%</th>\n",
       "      <td>9.000000</td>\n",
       "    </tr>\n",
       "    <tr>\n",
       "      <th>max</th>\n",
       "      <td>10.000000</td>\n",
       "    </tr>\n",
       "  </tbody>\n",
       "</table>\n",
       "</div>"
      ],
      "text/plain": [
       "             rating\n",
       "count  25000.000000\n",
       "mean       5.477720\n",
       "std        3.466477\n",
       "min        1.000000\n",
       "25%        2.000000\n",
       "50%        5.500000\n",
       "75%        9.000000\n",
       "max       10.000000"
      ]
     },
     "metadata": {},
     "output_type": "display_data"
    },
    {
     "data": {
      "text/html": [
       "<div>\n",
       "<style scoped>\n",
       "    .dataframe tbody tr th:only-of-type {\n",
       "        vertical-align: middle;\n",
       "    }\n",
       "\n",
       "    .dataframe tbody tr th {\n",
       "        vertical-align: top;\n",
       "    }\n",
       "\n",
       "    .dataframe thead th {\n",
       "        text-align: right;\n",
       "    }\n",
       "</style>\n",
       "<table border=\"1\" class=\"dataframe\">\n",
       "  <thead>\n",
       "    <tr style=\"text-align: right;\">\n",
       "      <th></th>\n",
       "      <th>comment</th>\n",
       "      <th>rating</th>\n",
       "    </tr>\n",
       "  </thead>\n",
       "  <tbody>\n",
       "    <tr>\n",
       "      <th>0</th>\n",
       "      <td>Story of a man who has unnatural feelings for ...</td>\n",
       "      <td>3</td>\n",
       "    </tr>\n",
       "    <tr>\n",
       "      <th>1</th>\n",
       "      <td>Airport '77 starts as a brand new luxury 747 p...</td>\n",
       "      <td>4</td>\n",
       "    </tr>\n",
       "    <tr>\n",
       "      <th>2</th>\n",
       "      <td>This film lacked something I couldn't put my f...</td>\n",
       "      <td>4</td>\n",
       "    </tr>\n",
       "    <tr>\n",
       "      <th>3</th>\n",
       "      <td>Sorry everyone,,, I know this is supposed to b...</td>\n",
       "      <td>1</td>\n",
       "    </tr>\n",
       "    <tr>\n",
       "      <th>4</th>\n",
       "      <td>When I was little my parents took me along to ...</td>\n",
       "      <td>1</td>\n",
       "    </tr>\n",
       "    <tr>\n",
       "      <th>...</th>\n",
       "      <td>...</td>\n",
       "      <td>...</td>\n",
       "    </tr>\n",
       "    <tr>\n",
       "      <th>24995</th>\n",
       "      <td>Seeing as the vote average was pretty low, and...</td>\n",
       "      <td>9</td>\n",
       "    </tr>\n",
       "    <tr>\n",
       "      <th>24996</th>\n",
       "      <td>The plot had some wretched, unbelievable twist...</td>\n",
       "      <td>8</td>\n",
       "    </tr>\n",
       "    <tr>\n",
       "      <th>24997</th>\n",
       "      <td>I am amazed at how this movie(and most others ...</td>\n",
       "      <td>10</td>\n",
       "    </tr>\n",
       "    <tr>\n",
       "      <th>24998</th>\n",
       "      <td>A Christmas Together actually came before my t...</td>\n",
       "      <td>8</td>\n",
       "    </tr>\n",
       "    <tr>\n",
       "      <th>24999</th>\n",
       "      <td>Working-class romantic drama from director Mar...</td>\n",
       "      <td>7</td>\n",
       "    </tr>\n",
       "  </tbody>\n",
       "</table>\n",
       "<p>25000 rows × 2 columns</p>\n",
       "</div>"
      ],
      "text/plain": [
       "                                                 comment  rating\n",
       "0      Story of a man who has unnatural feelings for ...       3\n",
       "1      Airport '77 starts as a brand new luxury 747 p...       4\n",
       "2      This film lacked something I couldn't put my f...       4\n",
       "3      Sorry everyone,,, I know this is supposed to b...       1\n",
       "4      When I was little my parents took me along to ...       1\n",
       "...                                                  ...     ...\n",
       "24995  Seeing as the vote average was pretty low, and...       9\n",
       "24996  The plot had some wretched, unbelievable twist...       8\n",
       "24997  I am amazed at how this movie(and most others ...      10\n",
       "24998  A Christmas Together actually came before my t...       8\n",
       "24999  Working-class romantic drama from director Mar...       7\n",
       "\n",
       "[25000 rows x 2 columns]"
      ]
     },
     "metadata": {},
     "output_type": "display_data"
    },
    {
     "name": "stdout",
     "output_type": "stream",
     "text": [
      "-------------------------------\n",
      "Тестовая выборка:\n",
      "-------------------------------\n",
      "Количество пустых значений:\n"
     ]
    },
    {
     "data": {
      "text/plain": [
       "comment    0\n",
       "rating     0\n",
       "dtype: int64"
      ]
     },
     "metadata": {},
     "output_type": "display_data"
    },
    {
     "data": {
      "text/html": [
       "<div>\n",
       "<style scoped>\n",
       "    .dataframe tbody tr th:only-of-type {\n",
       "        vertical-align: middle;\n",
       "    }\n",
       "\n",
       "    .dataframe tbody tr th {\n",
       "        vertical-align: top;\n",
       "    }\n",
       "\n",
       "    .dataframe thead th {\n",
       "        text-align: right;\n",
       "    }\n",
       "</style>\n",
       "<table border=\"1\" class=\"dataframe\">\n",
       "  <thead>\n",
       "    <tr style=\"text-align: right;\">\n",
       "      <th></th>\n",
       "      <th>rating</th>\n",
       "    </tr>\n",
       "  </thead>\n",
       "  <tbody>\n",
       "    <tr>\n",
       "      <th>count</th>\n",
       "      <td>25000.000000</td>\n",
       "    </tr>\n",
       "    <tr>\n",
       "      <th>mean</th>\n",
       "      <td>5.512960</td>\n",
       "    </tr>\n",
       "    <tr>\n",
       "      <th>std</th>\n",
       "      <td>3.490902</td>\n",
       "    </tr>\n",
       "    <tr>\n",
       "      <th>min</th>\n",
       "      <td>1.000000</td>\n",
       "    </tr>\n",
       "    <tr>\n",
       "      <th>25%</th>\n",
       "      <td>2.000000</td>\n",
       "    </tr>\n",
       "    <tr>\n",
       "      <th>50%</th>\n",
       "      <td>5.500000</td>\n",
       "    </tr>\n",
       "    <tr>\n",
       "      <th>75%</th>\n",
       "      <td>9.000000</td>\n",
       "    </tr>\n",
       "    <tr>\n",
       "      <th>max</th>\n",
       "      <td>10.000000</td>\n",
       "    </tr>\n",
       "  </tbody>\n",
       "</table>\n",
       "</div>"
      ],
      "text/plain": [
       "             rating\n",
       "count  25000.000000\n",
       "mean       5.512960\n",
       "std        3.490902\n",
       "min        1.000000\n",
       "25%        2.000000\n",
       "50%        5.500000\n",
       "75%        9.000000\n",
       "max       10.000000"
      ]
     },
     "metadata": {},
     "output_type": "display_data"
    },
    {
     "data": {
      "text/html": [
       "<div>\n",
       "<style scoped>\n",
       "    .dataframe tbody tr th:only-of-type {\n",
       "        vertical-align: middle;\n",
       "    }\n",
       "\n",
       "    .dataframe tbody tr th {\n",
       "        vertical-align: top;\n",
       "    }\n",
       "\n",
       "    .dataframe thead th {\n",
       "        text-align: right;\n",
       "    }\n",
       "</style>\n",
       "<table border=\"1\" class=\"dataframe\">\n",
       "  <thead>\n",
       "    <tr style=\"text-align: right;\">\n",
       "      <th></th>\n",
       "      <th>comment</th>\n",
       "      <th>rating</th>\n",
       "    </tr>\n",
       "  </thead>\n",
       "  <tbody>\n",
       "    <tr>\n",
       "      <th>0</th>\n",
       "      <td>Once again Mr. Costner has dragged out a movie...</td>\n",
       "      <td>2</td>\n",
       "    </tr>\n",
       "    <tr>\n",
       "      <th>1</th>\n",
       "      <td>This is an example of why the majority of acti...</td>\n",
       "      <td>4</td>\n",
       "    </tr>\n",
       "    <tr>\n",
       "      <th>2</th>\n",
       "      <td>First of all I hate those moronic rappers, who...</td>\n",
       "      <td>1</td>\n",
       "    </tr>\n",
       "    <tr>\n",
       "      <th>3</th>\n",
       "      <td>Not even the Beatles could write songs everyon...</td>\n",
       "      <td>3</td>\n",
       "    </tr>\n",
       "    <tr>\n",
       "      <th>4</th>\n",
       "      <td>Brass pictures (movies is not a fitting word f...</td>\n",
       "      <td>3</td>\n",
       "    </tr>\n",
       "    <tr>\n",
       "      <th>...</th>\n",
       "      <td>...</td>\n",
       "      <td>...</td>\n",
       "    </tr>\n",
       "    <tr>\n",
       "      <th>24995</th>\n",
       "      <td>I was extraordinarily impressed by this film. ...</td>\n",
       "      <td>8</td>\n",
       "    </tr>\n",
       "    <tr>\n",
       "      <th>24996</th>\n",
       "      <td>Although I'm not a golf fan, I attended a snea...</td>\n",
       "      <td>10</td>\n",
       "    </tr>\n",
       "    <tr>\n",
       "      <th>24997</th>\n",
       "      <td>From the start of \"The Edge Of Love\", the view...</td>\n",
       "      <td>8</td>\n",
       "    </tr>\n",
       "    <tr>\n",
       "      <th>24998</th>\n",
       "      <td>This movie, with all its complexity and subtle...</td>\n",
       "      <td>10</td>\n",
       "    </tr>\n",
       "    <tr>\n",
       "      <th>24999</th>\n",
       "      <td>I've seen this story before but my kids haven'...</td>\n",
       "      <td>7</td>\n",
       "    </tr>\n",
       "  </tbody>\n",
       "</table>\n",
       "<p>25000 rows × 2 columns</p>\n",
       "</div>"
      ],
      "text/plain": [
       "                                                 comment  rating\n",
       "0      Once again Mr. Costner has dragged out a movie...       2\n",
       "1      This is an example of why the majority of acti...       4\n",
       "2      First of all I hate those moronic rappers, who...       1\n",
       "3      Not even the Beatles could write songs everyon...       3\n",
       "4      Brass pictures (movies is not a fitting word f...       3\n",
       "...                                                  ...     ...\n",
       "24995  I was extraordinarily impressed by this film. ...       8\n",
       "24996  Although I'm not a golf fan, I attended a snea...      10\n",
       "24997  From the start of \"The Edge Of Love\", the view...       8\n",
       "24998  This movie, with all its complexity and subtle...      10\n",
       "24999  I've seen this story before but my kids haven'...       7\n",
       "\n",
       "[25000 rows x 2 columns]"
      ]
     },
     "metadata": {},
     "output_type": "display_data"
    }
   ],
   "source": [
    "for name, df in [('Обучающая выборка:', df_train), \n",
    "                 ('Тестовая выборка:', df_test)]:\n",
    "    print('-------------------------------')\n",
    "    print(name)\n",
    "    print('-------------------------------')\n",
    "    print('Количество пустых значений:')\n",
    "    display(df.isna().sum())\n",
    "    display(df.describe())\n",
    "    display(df)"
   ]
  },
  {
   "cell_type": "markdown",
   "id": "278aca84",
   "metadata": {},
   "source": [
    "Датасеты сформировались корректно. 25000 комментариев в обучающей выборке (негативные/позитивные 50 на 50), 25000 комментариев в тестовой выборке (негативные/позитивные 50 на 50). Пустых ячеек нет. Негативными считаются комментарии от 1 до 4 включительно, позитивными - от 7 до 10 включительно. Нейтральных комментариев нет ни в обучении, ни в тесте (комментарии с рейтингами 5 или 6)."
   ]
  },
  {
   "cell_type": "code",
   "execution_count": 12,
   "id": "2d6bd04b",
   "metadata": {},
   "outputs": [
    {
     "data": {
      "text/html": [
       "<div>\n",
       "<style scoped>\n",
       "    .dataframe tbody tr th:only-of-type {\n",
       "        vertical-align: middle;\n",
       "    }\n",
       "\n",
       "    .dataframe tbody tr th {\n",
       "        vertical-align: top;\n",
       "    }\n",
       "\n",
       "    .dataframe thead th {\n",
       "        text-align: right;\n",
       "    }\n",
       "</style>\n",
       "<table border=\"1\" class=\"dataframe\">\n",
       "  <thead>\n",
       "    <tr style=\"text-align: right;\">\n",
       "      <th></th>\n",
       "      <th>train</th>\n",
       "      <th>test</th>\n",
       "    </tr>\n",
       "  </thead>\n",
       "  <tbody>\n",
       "    <tr>\n",
       "      <th>1</th>\n",
       "      <td>20.40</td>\n",
       "      <td>20.09</td>\n",
       "    </tr>\n",
       "    <tr>\n",
       "      <th>2</th>\n",
       "      <td>9.14</td>\n",
       "      <td>9.21</td>\n",
       "    </tr>\n",
       "    <tr>\n",
       "      <th>3</th>\n",
       "      <td>9.68</td>\n",
       "      <td>10.16</td>\n",
       "    </tr>\n",
       "    <tr>\n",
       "      <th>4</th>\n",
       "      <td>10.78</td>\n",
       "      <td>10.54</td>\n",
       "    </tr>\n",
       "    <tr>\n",
       "      <th>7</th>\n",
       "      <td>9.98</td>\n",
       "      <td>9.23</td>\n",
       "    </tr>\n",
       "    <tr>\n",
       "      <th>8</th>\n",
       "      <td>12.04</td>\n",
       "      <td>11.40</td>\n",
       "    </tr>\n",
       "    <tr>\n",
       "      <th>9</th>\n",
       "      <td>9.05</td>\n",
       "      <td>9.38</td>\n",
       "    </tr>\n",
       "    <tr>\n",
       "      <th>10</th>\n",
       "      <td>18.93</td>\n",
       "      <td>20.00</td>\n",
       "    </tr>\n",
       "  </tbody>\n",
       "</table>\n",
       "</div>"
      ],
      "text/plain": [
       "    train   test\n",
       "1   20.40  20.09\n",
       "2    9.14   9.21\n",
       "3    9.68  10.16\n",
       "4   10.78  10.54\n",
       "7    9.98   9.23\n",
       "8   12.04  11.40\n",
       "9    9.05   9.38\n",
       "10  18.93  20.00"
      ]
     },
     "execution_count": 12,
     "metadata": {},
     "output_type": "execute_result"
    }
   ],
   "source": [
    "den_ratings = pd.DataFrame({'train': round(df_train.rating.value_counts(normalize=True).sort_index() * 100, 2),\n",
    "              'test': round(df_test.rating.value_counts(normalize=True).sort_index() * 100, 2)})\n",
    "den_ratings"
   ]
  },
  {
   "cell_type": "code",
   "execution_count": 13,
   "id": "d9457301",
   "metadata": {},
   "outputs": [
    {
     "data": {
      "image/png": "[encoded data removed]",
      "text/plain": [
       "<Figure size 900x600 with 1 Axes>"
      ]
     },
     "metadata": {},
     "output_type": "display_data"
    }
   ],
   "source": [
    "den_ratings.plot(kind='bar',\n",
    "                 title='Распределения рейтингов в обучающей и тестовой выборках',\n",
    "                 xlabel = 'рейтинг',\n",
    "                 ylabel = '%',\n",
    "                 figsize=(9, 6));"
   ]
  },
  {
   "cell_type": "markdown",
   "id": "b1ba34f7",
   "metadata": {},
   "source": [
    "Разпределения рейтингов для обучающей выборки и тестовой очень похожи. И там и там имеется дисбаланс, оценок 1 и 10 примерно в два раза больше, чем остальных. Это логично, люди обычно чаще ставят крайние оценки, чем средние."
   ]
  },
  {
   "cell_type": "code",
   "execution_count": 14,
   "id": "5b3b6939",
   "metadata": {},
   "outputs": [],
   "source": [
    "def get_cleared_comment(comment):\n",
    "    comment = comment.lower() #привожу текст к нижнему регистру\n",
    "    comment = re.sub(r'[^a-z0-9]', ' ', comment) #заменяю все символы не относящиеся к английским буквам и цифрам на пробел\n",
    "    comment = ' '.join(comment.split()) #удаляю лишние пробелы\n",
    "    return comment"
   ]
  },
  {
   "cell_type": "markdown",
   "id": "601477d7",
   "metadata": {},
   "source": [
    "get_cleared_comment - функция возвращает текст в нижнем регистре очищенный от лишних символов."
   ]
  },
  {
   "cell_type": "code",
   "execution_count": 15,
   "id": "03da45cc",
   "metadata": {},
   "outputs": [
    {
     "data": {
      "text/html": [
       "<div>\n",
       "<style scoped>\n",
       "    .dataframe tbody tr th:only-of-type {\n",
       "        vertical-align: middle;\n",
       "    }\n",
       "\n",
       "    .dataframe tbody tr th {\n",
       "        vertical-align: top;\n",
       "    }\n",
       "\n",
       "    .dataframe thead th {\n",
       "        text-align: right;\n",
       "    }\n",
       "</style>\n",
       "<table border=\"1\" class=\"dataframe\">\n",
       "  <thead>\n",
       "    <tr style=\"text-align: right;\">\n",
       "      <th></th>\n",
       "      <th>comment</th>\n",
       "      <th>rating</th>\n",
       "    </tr>\n",
       "  </thead>\n",
       "  <tbody>\n",
       "    <tr>\n",
       "      <th>0</th>\n",
       "      <td>story of a man who has unnatural feelings for ...</td>\n",
       "      <td>3</td>\n",
       "    </tr>\n",
       "    <tr>\n",
       "      <th>1</th>\n",
       "      <td>airport 77 starts as a brand new luxury 747 pl...</td>\n",
       "      <td>4</td>\n",
       "    </tr>\n",
       "    <tr>\n",
       "      <th>2</th>\n",
       "      <td>this film lacked something i couldn t put my f...</td>\n",
       "      <td>4</td>\n",
       "    </tr>\n",
       "    <tr>\n",
       "      <th>3</th>\n",
       "      <td>sorry everyone i know this is supposed to be a...</td>\n",
       "      <td>1</td>\n",
       "    </tr>\n",
       "    <tr>\n",
       "      <th>4</th>\n",
       "      <td>when i was little my parents took me along to ...</td>\n",
       "      <td>1</td>\n",
       "    </tr>\n",
       "  </tbody>\n",
       "</table>\n",
       "</div>"
      ],
      "text/plain": [
       "                                             comment  rating\n",
       "0  story of a man who has unnatural feelings for ...       3\n",
       "1  airport 77 starts as a brand new luxury 747 pl...       4\n",
       "2  this film lacked something i couldn t put my f...       4\n",
       "3  sorry everyone i know this is supposed to be a...       1\n",
       "4  when i was little my parents took me along to ...       1"
      ]
     },
     "execution_count": 15,
     "metadata": {},
     "output_type": "execute_result"
    }
   ],
   "source": [
    "df_train['comment'] = df_train['comment'].apply(get_cleared_comment)\n",
    "df_train.head()"
   ]
  },
  {
   "cell_type": "code",
   "execution_count": 16,
   "id": "de55e2f5",
   "metadata": {
    "scrolled": true
   },
   "outputs": [
    {
     "data": {
      "text/html": [
       "<div>\n",
       "<style scoped>\n",
       "    .dataframe tbody tr th:only-of-type {\n",
       "        vertical-align: middle;\n",
       "    }\n",
       "\n",
       "    .dataframe tbody tr th {\n",
       "        vertical-align: top;\n",
       "    }\n",
       "\n",
       "    .dataframe thead th {\n",
       "        text-align: right;\n",
       "    }\n",
       "</style>\n",
       "<table border=\"1\" class=\"dataframe\">\n",
       "  <thead>\n",
       "    <tr style=\"text-align: right;\">\n",
       "      <th></th>\n",
       "      <th>comment</th>\n",
       "      <th>rating</th>\n",
       "    </tr>\n",
       "  </thead>\n",
       "  <tbody>\n",
       "    <tr>\n",
       "      <th>0</th>\n",
       "      <td>once again mr costner has dragged out a movie ...</td>\n",
       "      <td>2</td>\n",
       "    </tr>\n",
       "    <tr>\n",
       "      <th>1</th>\n",
       "      <td>this is an example of why the majority of acti...</td>\n",
       "      <td>4</td>\n",
       "    </tr>\n",
       "    <tr>\n",
       "      <th>2</th>\n",
       "      <td>first of all i hate those moronic rappers who ...</td>\n",
       "      <td>1</td>\n",
       "    </tr>\n",
       "    <tr>\n",
       "      <th>3</th>\n",
       "      <td>not even the beatles could write songs everyon...</td>\n",
       "      <td>3</td>\n",
       "    </tr>\n",
       "    <tr>\n",
       "      <th>4</th>\n",
       "      <td>brass pictures movies is not a fitting word fo...</td>\n",
       "      <td>3</td>\n",
       "    </tr>\n",
       "  </tbody>\n",
       "</table>\n",
       "</div>"
      ],
      "text/plain": [
       "                                             comment  rating\n",
       "0  once again mr costner has dragged out a movie ...       2\n",
       "1  this is an example of why the majority of acti...       4\n",
       "2  first of all i hate those moronic rappers who ...       1\n",
       "3  not even the beatles could write songs everyon...       3\n",
       "4  brass pictures movies is not a fitting word fo...       3"
      ]
     },
     "execution_count": 16,
     "metadata": {},
     "output_type": "execute_result"
    }
   ],
   "source": [
    "df_test['comment'] = df_test['comment'].apply(get_cleared_comment)\n",
    "df_test.head()"
   ]
  },
  {
   "cell_type": "markdown",
   "id": "99357af0",
   "metadata": {},
   "source": [
    "Комментарии очищены от лишних символов."
   ]
  },
  {
   "cell_type": "code",
   "execution_count": 17,
   "id": "ed20f8b7",
   "metadata": {},
   "outputs": [],
   "source": [
    "def get_wordnet_pos(word):\n",
    "    tag = nltk.pos_tag([word])[0][1][0].upper()\n",
    "    tag_dict = {\"J\": wordnet.ADJ,\n",
    "                \"N\": wordnet.NOUN,\n",
    "                \"V\": wordnet.VERB,\n",
    "                \"R\": wordnet.ADV} \n",
    "    return tag_dict.get(tag, wordnet.NOUN)"
   ]
  },
  {
   "cell_type": "markdown",
   "id": "ec122446",
   "metadata": {},
   "source": [
    "get_wordnet_pos - функция возвращает словарь, где возвращается значение часть речи (pos_tag)."
   ]
  },
  {
   "cell_type": "code",
   "execution_count": 18,
   "id": "e30e8b0d",
   "metadata": {},
   "outputs": [],
   "source": [
    "def get_lemmatized_comment(comment):\n",
    "    result = []\n",
    "    for word in comment.split():\n",
    "        if word not in stopwords.words('english'):\n",
    "            result.append(WordNetLemmatizer().lemmatize(word, get_wordnet_pos(word))) \n",
    "    return ' '.join(result)"
   ]
  },
  {
   "cell_type": "markdown",
   "id": "e1815f43",
   "metadata": {},
   "source": [
    "get_lemmatized_comment - функция возвращает комментарий с лемматизировнным набором слов и с удаленными стоп-словами."
   ]
  },
  {
   "cell_type": "code",
   "execution_count": 19,
   "id": "808f1c6d",
   "metadata": {},
   "outputs": [
    {
     "data": {
      "application/vnd.jupyter.widget-view+json": {
       "model_id": "47d507dd66da46d9875858cb22c5ffea",
       "version_major": 2,
       "version_minor": 0
      },
      "text/plain": [
       "  0%|          | 0/25000 [00:00<?, ?it/s]"
      ]
     },
     "metadata": {},
     "output_type": "display_data"
    },
    {
     "data": {
      "text/html": [
       "<div>\n",
       "<style scoped>\n",
       "    .dataframe tbody tr th:only-of-type {\n",
       "        vertical-align: middle;\n",
       "    }\n",
       "\n",
       "    .dataframe tbody tr th {\n",
       "        vertical-align: top;\n",
       "    }\n",
       "\n",
       "    .dataframe thead th {\n",
       "        text-align: right;\n",
       "    }\n",
       "</style>\n",
       "<table border=\"1\" class=\"dataframe\">\n",
       "  <thead>\n",
       "    <tr style=\"text-align: right;\">\n",
       "      <th></th>\n",
       "      <th>comment</th>\n",
       "      <th>rating</th>\n",
       "    </tr>\n",
       "  </thead>\n",
       "  <tbody>\n",
       "    <tr>\n",
       "      <th>0</th>\n",
       "      <td>story man unnatural feeling pig start opening ...</td>\n",
       "      <td>3</td>\n",
       "    </tr>\n",
       "    <tr>\n",
       "      <th>1</th>\n",
       "      <td>airport 77 start brand new luxury 747 plane lo...</td>\n",
       "      <td>4</td>\n",
       "    </tr>\n",
       "    <tr>\n",
       "      <th>2</th>\n",
       "      <td>film lack something put finger first charisma ...</td>\n",
       "      <td>4</td>\n",
       "    </tr>\n",
       "    <tr>\n",
       "      <th>3</th>\n",
       "      <td>sorry everyone know suppose art film wow hand ...</td>\n",
       "      <td>1</td>\n",
       "    </tr>\n",
       "    <tr>\n",
       "      <th>4</th>\n",
       "      <td>little parent take along theater see interior ...</td>\n",
       "      <td>1</td>\n",
       "    </tr>\n",
       "    <tr>\n",
       "      <th>...</th>\n",
       "      <td>...</td>\n",
       "      <td>...</td>\n",
       "    </tr>\n",
       "    <tr>\n",
       "      <th>24995</th>\n",
       "      <td>see vote average pretty low fact clerk video s...</td>\n",
       "      <td>9</td>\n",
       "    </tr>\n",
       "    <tr>\n",
       "      <th>24996</th>\n",
       "      <td>plot wretched unbelievable twist however chemi...</td>\n",
       "      <td>8</td>\n",
       "    </tr>\n",
       "    <tr>\n",
       "      <th>24997</th>\n",
       "      <td>amaze movie others average 5 star low crappy m...</td>\n",
       "      <td>10</td>\n",
       "    </tr>\n",
       "    <tr>\n",
       "      <th>24998</th>\n",
       "      <td>christmas together actually come time raise jo...</td>\n",
       "      <td>8</td>\n",
       "    </tr>\n",
       "    <tr>\n",
       "      <th>24999</th>\n",
       "      <td>work class romantic drama director martin ritt...</td>\n",
       "      <td>7</td>\n",
       "    </tr>\n",
       "  </tbody>\n",
       "</table>\n",
       "<p>25000 rows × 2 columns</p>\n",
       "</div>"
      ],
      "text/plain": [
       "                                                 comment  rating\n",
       "0      story man unnatural feeling pig start opening ...       3\n",
       "1      airport 77 start brand new luxury 747 plane lo...       4\n",
       "2      film lack something put finger first charisma ...       4\n",
       "3      sorry everyone know suppose art film wow hand ...       1\n",
       "4      little parent take along theater see interior ...       1\n",
       "...                                                  ...     ...\n",
       "24995  see vote average pretty low fact clerk video s...       9\n",
       "24996  plot wretched unbelievable twist however chemi...       8\n",
       "24997  amaze movie others average 5 star low crappy m...      10\n",
       "24998  christmas together actually come time raise jo...       8\n",
       "24999  work class romantic drama director martin ritt...       7\n",
       "\n",
       "[25000 rows x 2 columns]"
      ]
     },
     "execution_count": 19,
     "metadata": {},
     "output_type": "execute_result"
    }
   ],
   "source": [
    "tqdm.pandas()\n",
    "df_train['comment'] = df_train['comment'].progress_apply(get_lemmatized_comment)\n",
    "df_train"
   ]
  },
  {
   "cell_type": "code",
   "execution_count": 20,
   "id": "efc88331",
   "metadata": {},
   "outputs": [
    {
     "data": {
      "application/vnd.jupyter.widget-view+json": {
       "model_id": "8e8126ee519b4f4a82cabcaccab904f8",
       "version_major": 2,
       "version_minor": 0
      },
      "text/plain": [
       "  0%|          | 0/25000 [00:00<?, ?it/s]"
      ]
     },
     "metadata": {},
     "output_type": "display_data"
    },
    {
     "data": {
      "text/html": [
       "<div>\n",
       "<style scoped>\n",
       "    .dataframe tbody tr th:only-of-type {\n",
       "        vertical-align: middle;\n",
       "    }\n",
       "\n",
       "    .dataframe tbody tr th {\n",
       "        vertical-align: top;\n",
       "    }\n",
       "\n",
       "    .dataframe thead th {\n",
       "        text-align: right;\n",
       "    }\n",
       "</style>\n",
       "<table border=\"1\" class=\"dataframe\">\n",
       "  <thead>\n",
       "    <tr style=\"text-align: right;\">\n",
       "      <th></th>\n",
       "      <th>comment</th>\n",
       "      <th>rating</th>\n",
       "    </tr>\n",
       "  </thead>\n",
       "  <tbody>\n",
       "    <tr>\n",
       "      <th>0</th>\n",
       "      <td>mr costner drag movie far longer necessary asi...</td>\n",
       "      <td>2</td>\n",
       "    </tr>\n",
       "    <tr>\n",
       "      <th>1</th>\n",
       "      <td>example majority action film generic boring re...</td>\n",
       "      <td>4</td>\n",
       "    </tr>\n",
       "    <tr>\n",
       "      <th>2</th>\n",
       "      <td>first hate moronic rapper could nt act gun pre...</td>\n",
       "      <td>1</td>\n",
       "    </tr>\n",
       "    <tr>\n",
       "      <th>3</th>\n",
       "      <td>even beatles could write song everyone like al...</td>\n",
       "      <td>3</td>\n",
       "    </tr>\n",
       "    <tr>\n",
       "      <th>4</th>\n",
       "      <td>brass picture movie fitting word really somewh...</td>\n",
       "      <td>3</td>\n",
       "    </tr>\n",
       "    <tr>\n",
       "      <th>...</th>\n",
       "      <td>...</td>\n",
       "      <td>...</td>\n",
       "    </tr>\n",
       "    <tr>\n",
       "      <th>24995</th>\n",
       "      <td>extraordinarily impressed film one best sport ...</td>\n",
       "      <td>8</td>\n",
       "    </tr>\n",
       "    <tr>\n",
       "      <th>24996</th>\n",
       "      <td>although golf fan attend sneak preview movie a...</td>\n",
       "      <td>10</td>\n",
       "    </tr>\n",
       "    <tr>\n",
       "      <th>24997</th>\n",
       "      <td>start edge love viewer transport strike world ...</td>\n",
       "      <td>8</td>\n",
       "    </tr>\n",
       "    <tr>\n",
       "      <th>24998</th>\n",
       "      <td>movie complexity subtlety make one thought pro...</td>\n",
       "      <td>10</td>\n",
       "    </tr>\n",
       "    <tr>\n",
       "      <th>24999</th>\n",
       "      <td>see story kid boy troubled past join military ...</td>\n",
       "      <td>7</td>\n",
       "    </tr>\n",
       "  </tbody>\n",
       "</table>\n",
       "<p>25000 rows × 2 columns</p>\n",
       "</div>"
      ],
      "text/plain": [
       "                                                 comment  rating\n",
       "0      mr costner drag movie far longer necessary asi...       2\n",
       "1      example majority action film generic boring re...       4\n",
       "2      first hate moronic rapper could nt act gun pre...       1\n",
       "3      even beatles could write song everyone like al...       3\n",
       "4      brass picture movie fitting word really somewh...       3\n",
       "...                                                  ...     ...\n",
       "24995  extraordinarily impressed film one best sport ...       8\n",
       "24996  although golf fan attend sneak preview movie a...      10\n",
       "24997  start edge love viewer transport strike world ...       8\n",
       "24998  movie complexity subtlety make one thought pro...      10\n",
       "24999  see story kid boy troubled past join military ...       7\n",
       "\n",
       "[25000 rows x 2 columns]"
      ]
     },
     "execution_count": 20,
     "metadata": {},
     "output_type": "execute_result"
    }
   ],
   "source": [
    "tqdm.pandas()\n",
    "df_test['comment'] = df_test['comment'].progress_apply(get_lemmatized_comment)\n",
    "df_test"
   ]
  },
  {
   "cell_type": "code",
   "execution_count": 21,
   "id": "7d345863",
   "metadata": {},
   "outputs": [
    {
     "data": {
      "text/plain": [
       "0"
      ]
     },
     "execution_count": 21,
     "metadata": {},
     "output_type": "execute_result"
    }
   ],
   "source": [
    "sum(df_train['comment'] == '')"
   ]
  },
  {
   "cell_type": "code",
   "execution_count": 22,
   "id": "510c014e",
   "metadata": {},
   "outputs": [
    {
     "data": {
      "text/plain": [
       "0"
      ]
     },
     "execution_count": 22,
     "metadata": {},
     "output_type": "execute_result"
    }
   ],
   "source": [
    "sum(df_test['comment'] == '')"
   ]
  },
  {
   "cell_type": "code",
   "execution_count": 23,
   "id": "79c77fc1",
   "metadata": {},
   "outputs": [],
   "source": [
    "df_train.to_csv(r'.\\data\\train_lem.csv', index=False)\n",
    "df_test.to_csv(r'.\\data\\test_lem.csv', index=False)"
   ]
  },
  {
   "cell_type": "markdown",
   "id": "589446ef",
   "metadata": {},
   "source": [
    "Данные лемматизированны, стоп-слова удалены."
   ]
  },
  {
   "cell_type": "markdown",
   "id": "48ece747",
   "metadata": {},
   "source": [
    "## Обучение"
   ]
  },
  {
   "cell_type": "code",
   "execution_count": 24,
   "id": "3cfd578d",
   "metadata": {},
   "outputs": [],
   "source": [
    "df_train = df_train.sample(frac=1, replace=False, random_state=RANDOM_STATE)"
   ]
  },
  {
   "cell_type": "markdown",
   "id": "c6411f34",
   "metadata": {},
   "source": [
    "Перемешиваю обущающую выборку."
   ]
  },
  {
   "cell_type": "code",
   "execution_count": 25,
   "id": "37dac6ef",
   "metadata": {},
   "outputs": [],
   "source": [
    "X_train = df_train.comment.values\n",
    "X_test = df_test.comment.values\n",
    "y_train = df_train.rating.values\n",
    "y_test = df_test.rating.values"
   ]
  },
  {
   "cell_type": "markdown",
   "id": "46ff05bb",
   "metadata": {},
   "source": [
    "Задача представляет собой задачу порядковой регрессии. Попробую разную обработку текста и обучу разные типы моделей.\n",
    "\n",
    "Так как есть ограничения по времени сдачи работы и ограничения, связанные разработкой прототипа веб-сервиса, буду использовать обработку данных BOW, TF-IDF и модели линейные, LightGBM, чтобы предсказание модели не требовало большого количества времени и модели не занимали много памяти на сервере. "
   ]
  },
  {
   "cell_type": "markdown",
   "id": "4a03179e",
   "metadata": {},
   "source": [
    "### Мешок слов"
   ]
  },
  {
   "cell_type": "markdown",
   "id": "eaa5ea00",
   "metadata": {},
   "source": [
    "Создам мешок слов, используя сами слова из комментариев обучающей выборки и биграммы, составленные по комментариям обучающей выборки. Проверю линейные модели и модели градиентного бустинга по решетке на пятифолдовой кросс-валидации, буду изменять только гиперпараметр регуляризации."
   ]
  },
  {
   "cell_type": "markdown",
   "id": "a3ebf4f4",
   "metadata": {},
   "source": [
    "#### LinearRegression, Lasso, Ridge + unigram"
   ]
  },
  {
   "cell_type": "code",
   "execution_count": 26,
   "id": "eccedd0b",
   "metadata": {},
   "outputs": [
    {
     "name": "stdout",
     "output_type": "stream",
     "text": [
      "CPU times: total: 13.1 s\n",
      "Wall time: 33.1 s\n"
     ]
    },
    {
     "data": {
      "text/plain": [
       "({'lr__n_jobs': -1}, -7.294418945517828)"
      ]
     },
     "execution_count": 26,
     "metadata": {},
     "output_type": "execute_result"
    }
   ],
   "source": [
    "%%time\n",
    "pipe_bag_lr = Pipeline([('cv', CountVectorizer()), ('lr', LinearRegression())])\n",
    "param_grid = {'lr__n_jobs': [-1]}\n",
    "gs_bag_lr = GridSearchCV(estimator=pipe_bag_lr, \n",
    "                         param_grid=param_grid, \n",
    "                         scoring='neg_root_mean_squared_error',\n",
    "                         cv=5,\n",
    "                         n_jobs=-1)\n",
    "gs_bag_lr.fit(X_train, y_train)\n",
    "gs_bag_lr.best_params_, gs_bag_lr.best_score_"
   ]
  },
  {
   "cell_type": "code",
   "execution_count": 27,
   "id": "44eb8363",
   "metadata": {},
   "outputs": [
    {
     "name": "stdout",
     "output_type": "stream",
     "text": [
      "CPU times: total: 3min 3s\n",
      "Wall time: 10min 17s\n"
     ]
    },
    {
     "data": {
      "text/plain": [
       "({'lasso__alpha': 0.002, 'lasso__random_state': 42}, -2.4790864342005268)"
      ]
     },
     "execution_count": 27,
     "metadata": {},
     "output_type": "execute_result"
    }
   ],
   "source": [
    "%%time\n",
    "pipe_bag_lasso = Pipeline([('cv', CountVectorizer()), ('lasso', Lasso())])\n",
    "param_grid = {'lasso__alpha': np.arange(0.001, 0.011, 0.001), \n",
    "              'lasso__random_state': [RANDOM_STATE]}\n",
    "gs_bag_lasso = GridSearchCV(estimator=pipe_bag_lasso, \n",
    "                            param_grid=param_grid, \n",
    "                            scoring='neg_root_mean_squared_error',\n",
    "                            cv=5,\n",
    "                            n_jobs=-1)\n",
    "gs_bag_lasso.fit(X_train, y_train)\n",
    "gs_bag_lasso.best_params_, gs_bag_lasso.best_score_"
   ]
  },
  {
   "cell_type": "code",
   "execution_count": 28,
   "id": "040cf94f",
   "metadata": {},
   "outputs": [
    {
     "data": {
      "text/html": [
       "<div>\n",
       "<style scoped>\n",
       "    .dataframe tbody tr th:only-of-type {\n",
       "        vertical-align: middle;\n",
       "    }\n",
       "\n",
       "    .dataframe tbody tr th {\n",
       "        vertical-align: top;\n",
       "    }\n",
       "\n",
       "    .dataframe thead th {\n",
       "        text-align: right;\n",
       "    }\n",
       "</style>\n",
       "<table border=\"1\" class=\"dataframe\">\n",
       "  <thead>\n",
       "    <tr style=\"text-align: right;\">\n",
       "      <th></th>\n",
       "      <th>rank</th>\n",
       "      <th>mean_rmse</th>\n",
       "      <th>std_rmse</th>\n",
       "      <th>alpha</th>\n",
       "    </tr>\n",
       "  </thead>\n",
       "  <tbody>\n",
       "    <tr>\n",
       "      <th>1</th>\n",
       "      <td>1</td>\n",
       "      <td>2.479086</td>\n",
       "      <td>0.033341</td>\n",
       "      <td>0.002</td>\n",
       "    </tr>\n",
       "    <tr>\n",
       "      <th>2</th>\n",
       "      <td>2</td>\n",
       "      <td>2.482457</td>\n",
       "      <td>0.031091</td>\n",
       "      <td>0.003</td>\n",
       "    </tr>\n",
       "    <tr>\n",
       "      <th>3</th>\n",
       "      <td>3</td>\n",
       "      <td>2.492898</td>\n",
       "      <td>0.030426</td>\n",
       "      <td>0.004</td>\n",
       "    </tr>\n",
       "    <tr>\n",
       "      <th>4</th>\n",
       "      <td>4</td>\n",
       "      <td>2.505211</td>\n",
       "      <td>0.030027</td>\n",
       "      <td>0.005</td>\n",
       "    </tr>\n",
       "    <tr>\n",
       "      <th>0</th>\n",
       "      <td>5</td>\n",
       "      <td>2.514013</td>\n",
       "      <td>0.038844</td>\n",
       "      <td>0.001</td>\n",
       "    </tr>\n",
       "    <tr>\n",
       "      <th>5</th>\n",
       "      <td>6</td>\n",
       "      <td>2.517638</td>\n",
       "      <td>0.029420</td>\n",
       "      <td>0.006</td>\n",
       "    </tr>\n",
       "    <tr>\n",
       "      <th>6</th>\n",
       "      <td>7</td>\n",
       "      <td>2.528951</td>\n",
       "      <td>0.028882</td>\n",
       "      <td>0.007</td>\n",
       "    </tr>\n",
       "    <tr>\n",
       "      <th>7</th>\n",
       "      <td>8</td>\n",
       "      <td>2.539977</td>\n",
       "      <td>0.028439</td>\n",
       "      <td>0.008</td>\n",
       "    </tr>\n",
       "    <tr>\n",
       "      <th>8</th>\n",
       "      <td>9</td>\n",
       "      <td>2.551288</td>\n",
       "      <td>0.027737</td>\n",
       "      <td>0.009</td>\n",
       "    </tr>\n",
       "    <tr>\n",
       "      <th>9</th>\n",
       "      <td>10</td>\n",
       "      <td>2.562787</td>\n",
       "      <td>0.027522</td>\n",
       "      <td>0.01</td>\n",
       "    </tr>\n",
       "  </tbody>\n",
       "</table>\n",
       "</div>"
      ],
      "text/plain": [
       "   rank  mean_rmse  std_rmse  alpha\n",
       "1     1   2.479086  0.033341  0.002\n",
       "2     2   2.482457  0.031091  0.003\n",
       "3     3   2.492898  0.030426  0.004\n",
       "4     4   2.505211  0.030027  0.005\n",
       "0     5   2.514013  0.038844  0.001\n",
       "5     6   2.517638  0.029420  0.006\n",
       "6     7   2.528951  0.028882  0.007\n",
       "7     8   2.539977  0.028439  0.008\n",
       "8     9   2.551288  0.027737  0.009\n",
       "9    10   2.562787  0.027522   0.01"
      ]
     },
     "execution_count": 28,
     "metadata": {},
     "output_type": "execute_result"
    }
   ],
   "source": [
    "bag_lasso_results = pd.DataFrame(gs_bag_lasso.cv_results_)[['rank_test_score',\n",
    "                                                            'mean_test_score', \n",
    "                                                            'std_test_score',\n",
    "                                                            'param_lasso__alpha']].sort_values(by='rank_test_score')\n",
    "bag_lasso_results.columns = ['rank', \n",
    "                             'mean_rmse', \n",
    "                             'std_rmse', \n",
    "                             'alpha']\n",
    "bag_lasso_results['mean_rmse'] = bag_lasso_results['mean_rmse'].abs()\n",
    "bag_lasso_results.head(10)"
   ]
  },
  {
   "cell_type": "code",
   "execution_count": 29,
   "id": "604ad5a6",
   "metadata": {},
   "outputs": [
    {
     "name": "stdout",
     "output_type": "stream",
     "text": [
      "CPU times: total: 5.17 s\n",
      "Wall time: 14.9 s\n"
     ]
    },
    {
     "data": {
      "text/plain": [
       "({'ridge__alpha': 350, 'ridge__random_state': 42}, -2.4515775646663185)"
      ]
     },
     "execution_count": 29,
     "metadata": {},
     "output_type": "execute_result"
    }
   ],
   "source": [
    "%%time\n",
    "pipe_bag_ridge = Pipeline([('cv', CountVectorizer()), ('ridge', Ridge())])\n",
    "param_grid = {'ridge__alpha': range(300, 401, 10), \n",
    "              'ridge__random_state': [RANDOM_STATE]}\n",
    "gs_bag_ridge = GridSearchCV(estimator=pipe_bag_ridge, \n",
    "                            param_grid=param_grid, \n",
    "                            scoring='neg_root_mean_squared_error',\n",
    "                            cv=5,\n",
    "                            n_jobs=-1)\n",
    "gs_bag_ridge.fit(X_train, y_train)\n",
    "gs_bag_ridge.best_params_, gs_bag_ridge.best_score_"
   ]
  },
  {
   "cell_type": "code",
   "execution_count": 30,
   "id": "0bbd1b4a",
   "metadata": {
    "scrolled": true
   },
   "outputs": [
    {
     "data": {
      "text/html": [
       "<div>\n",
       "<style scoped>\n",
       "    .dataframe tbody tr th:only-of-type {\n",
       "        vertical-align: middle;\n",
       "    }\n",
       "\n",
       "    .dataframe tbody tr th {\n",
       "        vertical-align: top;\n",
       "    }\n",
       "\n",
       "    .dataframe thead th {\n",
       "        text-align: right;\n",
       "    }\n",
       "</style>\n",
       "<table border=\"1\" class=\"dataframe\">\n",
       "  <thead>\n",
       "    <tr style=\"text-align: right;\">\n",
       "      <th></th>\n",
       "      <th>rank</th>\n",
       "      <th>mean_rmse</th>\n",
       "      <th>std_rmse</th>\n",
       "      <th>alpha</th>\n",
       "    </tr>\n",
       "  </thead>\n",
       "  <tbody>\n",
       "    <tr>\n",
       "      <th>5</th>\n",
       "      <td>1</td>\n",
       "      <td>2.451578</td>\n",
       "      <td>0.034906</td>\n",
       "      <td>350</td>\n",
       "    </tr>\n",
       "    <tr>\n",
       "      <th>6</th>\n",
       "      <td>2</td>\n",
       "      <td>2.451583</td>\n",
       "      <td>0.034814</td>\n",
       "      <td>360</td>\n",
       "    </tr>\n",
       "    <tr>\n",
       "      <th>7</th>\n",
       "      <td>3</td>\n",
       "      <td>2.451592</td>\n",
       "      <td>0.034764</td>\n",
       "      <td>370</td>\n",
       "    </tr>\n",
       "    <tr>\n",
       "      <th>4</th>\n",
       "      <td>4</td>\n",
       "      <td>2.451653</td>\n",
       "      <td>0.034967</td>\n",
       "      <td>340</td>\n",
       "    </tr>\n",
       "    <tr>\n",
       "      <th>8</th>\n",
       "      <td>5</td>\n",
       "      <td>2.451653</td>\n",
       "      <td>0.034709</td>\n",
       "      <td>380</td>\n",
       "    </tr>\n",
       "    <tr>\n",
       "      <th>9</th>\n",
       "      <td>6</td>\n",
       "      <td>2.451762</td>\n",
       "      <td>0.034689</td>\n",
       "      <td>390</td>\n",
       "    </tr>\n",
       "    <tr>\n",
       "      <th>3</th>\n",
       "      <td>7</td>\n",
       "      <td>2.451829</td>\n",
       "      <td>0.035028</td>\n",
       "      <td>330</td>\n",
       "    </tr>\n",
       "    <tr>\n",
       "      <th>10</th>\n",
       "      <td>8</td>\n",
       "      <td>2.451884</td>\n",
       "      <td>0.034637</td>\n",
       "      <td>400</td>\n",
       "    </tr>\n",
       "    <tr>\n",
       "      <th>2</th>\n",
       "      <td>9</td>\n",
       "      <td>2.451983</td>\n",
       "      <td>0.035051</td>\n",
       "      <td>320</td>\n",
       "    </tr>\n",
       "    <tr>\n",
       "      <th>1</th>\n",
       "      <td>10</td>\n",
       "      <td>2.452290</td>\n",
       "      <td>0.035188</td>\n",
       "      <td>310</td>\n",
       "    </tr>\n",
       "  </tbody>\n",
       "</table>\n",
       "</div>"
      ],
      "text/plain": [
       "    rank  mean_rmse  std_rmse alpha\n",
       "5      1   2.451578  0.034906   350\n",
       "6      2   2.451583  0.034814   360\n",
       "7      3   2.451592  0.034764   370\n",
       "4      4   2.451653  0.034967   340\n",
       "8      5   2.451653  0.034709   380\n",
       "9      6   2.451762  0.034689   390\n",
       "3      7   2.451829  0.035028   330\n",
       "10     8   2.451884  0.034637   400\n",
       "2      9   2.451983  0.035051   320\n",
       "1     10   2.452290  0.035188   310"
      ]
     },
     "execution_count": 30,
     "metadata": {},
     "output_type": "execute_result"
    }
   ],
   "source": [
    "bag_ridge_results = pd.DataFrame(gs_bag_ridge.cv_results_)[['rank_test_score',\n",
    "                                                            'mean_test_score', \n",
    "                                                            'std_test_score',\n",
    "                                                            'param_ridge__alpha']].sort_values(by='rank_test_score')\n",
    "bag_ridge_results.columns = ['rank', \n",
    "                             'mean_rmse', \n",
    "                             'std_rmse', \n",
    "                             'alpha']\n",
    "bag_ridge_results['mean_rmse'] = bag_ridge_results['mean_rmse'].abs()\n",
    "bag_ridge_results.head(10)"
   ]
  },
  {
   "cell_type": "markdown",
   "id": "72d04aa4",
   "metadata": {},
   "source": [
    "Ridge + unigramm показывает самые лучшие результаты из линейных моделей и обучение Ridge проходит быстрее, чем LinearRegression, Lasso."
   ]
  },
  {
   "cell_type": "markdown",
   "id": "d66a6ed0",
   "metadata": {},
   "source": [
    "#### Ridge + unigram + bigram"
   ]
  },
  {
   "cell_type": "code",
   "execution_count": 31,
   "id": "854e02cf",
   "metadata": {},
   "outputs": [
    {
     "name": "stdout",
     "output_type": "stream",
     "text": [
      "CPU times: total: 14 s\n",
      "Wall time: 2min 44s\n"
     ]
    },
    {
     "data": {
      "text/plain": [
       "({'ridge__alpha': 200, 'ridge__random_state': 42}, -2.4001158928817268)"
      ]
     },
     "execution_count": 31,
     "metadata": {},
     "output_type": "execute_result"
    }
   ],
   "source": [
    "%%time\n",
    "pipe_bag_ridge = Pipeline([('cv', CountVectorizer(ngram_range=(1, 2))), ('ridge', Ridge())])\n",
    "param_grid = {'ridge__alpha': range(100, 201, 10), \n",
    "              'ridge__random_state': [RANDOM_STATE]}\n",
    "gs_bag_ridge = GridSearchCV(estimator=pipe_bag_ridge, \n",
    "                            param_grid=param_grid, \n",
    "                            scoring='neg_root_mean_squared_error',\n",
    "                            cv=5,\n",
    "                            n_jobs=-1)\n",
    "gs_bag_ridge.fit(X_train, y_train)\n",
    "gs_bag_ridge.best_params_, gs_bag_ridge.best_score_"
   ]
  },
  {
   "cell_type": "code",
   "execution_count": 32,
   "id": "d2b87794",
   "metadata": {},
   "outputs": [
    {
     "data": {
      "text/html": [
       "<div>\n",
       "<style scoped>\n",
       "    .dataframe tbody tr th:only-of-type {\n",
       "        vertical-align: middle;\n",
       "    }\n",
       "\n",
       "    .dataframe tbody tr th {\n",
       "        vertical-align: top;\n",
       "    }\n",
       "\n",
       "    .dataframe thead th {\n",
       "        text-align: right;\n",
       "    }\n",
       "</style>\n",
       "<table border=\"1\" class=\"dataframe\">\n",
       "  <thead>\n",
       "    <tr style=\"text-align: right;\">\n",
       "      <th></th>\n",
       "      <th>rank</th>\n",
       "      <th>mean_rmse</th>\n",
       "      <th>std_rmse</th>\n",
       "      <th>alpha</th>\n",
       "    </tr>\n",
       "  </thead>\n",
       "  <tbody>\n",
       "    <tr>\n",
       "      <th>10</th>\n",
       "      <td>1</td>\n",
       "      <td>2.400116</td>\n",
       "      <td>0.038484</td>\n",
       "      <td>200</td>\n",
       "    </tr>\n",
       "    <tr>\n",
       "      <th>9</th>\n",
       "      <td>2</td>\n",
       "      <td>2.401248</td>\n",
       "      <td>0.038684</td>\n",
       "      <td>190</td>\n",
       "    </tr>\n",
       "    <tr>\n",
       "      <th>8</th>\n",
       "      <td>3</td>\n",
       "      <td>2.402414</td>\n",
       "      <td>0.038827</td>\n",
       "      <td>180</td>\n",
       "    </tr>\n",
       "    <tr>\n",
       "      <th>7</th>\n",
       "      <td>4</td>\n",
       "      <td>2.403883</td>\n",
       "      <td>0.039056</td>\n",
       "      <td>170</td>\n",
       "    </tr>\n",
       "    <tr>\n",
       "      <th>6</th>\n",
       "      <td>5</td>\n",
       "      <td>2.405642</td>\n",
       "      <td>0.039256</td>\n",
       "      <td>160</td>\n",
       "    </tr>\n",
       "    <tr>\n",
       "      <th>5</th>\n",
       "      <td>6</td>\n",
       "      <td>2.407621</td>\n",
       "      <td>0.039444</td>\n",
       "      <td>150</td>\n",
       "    </tr>\n",
       "    <tr>\n",
       "      <th>4</th>\n",
       "      <td>7</td>\n",
       "      <td>2.410014</td>\n",
       "      <td>0.039711</td>\n",
       "      <td>140</td>\n",
       "    </tr>\n",
       "    <tr>\n",
       "      <th>3</th>\n",
       "      <td>8</td>\n",
       "      <td>2.412842</td>\n",
       "      <td>0.039997</td>\n",
       "      <td>130</td>\n",
       "    </tr>\n",
       "    <tr>\n",
       "      <th>2</th>\n",
       "      <td>9</td>\n",
       "      <td>2.416059</td>\n",
       "      <td>0.040241</td>\n",
       "      <td>120</td>\n",
       "    </tr>\n",
       "    <tr>\n",
       "      <th>1</th>\n",
       "      <td>10</td>\n",
       "      <td>2.419915</td>\n",
       "      <td>0.040552</td>\n",
       "      <td>110</td>\n",
       "    </tr>\n",
       "  </tbody>\n",
       "</table>\n",
       "</div>"
      ],
      "text/plain": [
       "    rank  mean_rmse  std_rmse alpha\n",
       "10     1   2.400116  0.038484   200\n",
       "9      2   2.401248  0.038684   190\n",
       "8      3   2.402414  0.038827   180\n",
       "7      4   2.403883  0.039056   170\n",
       "6      5   2.405642  0.039256   160\n",
       "5      6   2.407621  0.039444   150\n",
       "4      7   2.410014  0.039711   140\n",
       "3      8   2.412842  0.039997   130\n",
       "2      9   2.416059  0.040241   120\n",
       "1     10   2.419915  0.040552   110"
      ]
     },
     "execution_count": 32,
     "metadata": {},
     "output_type": "execute_result"
    }
   ],
   "source": [
    "bag_ridge_results = pd.DataFrame(gs_bag_ridge.cv_results_)[['rank_test_score',\n",
    "                                                            'mean_test_score', \n",
    "                                                            'std_test_score',\n",
    "                                                            'param_ridge__alpha']].sort_values(by='rank_test_score')\n",
    "bag_ridge_results.columns = ['rank', \n",
    "                             'mean_rmse', \n",
    "                             'std_rmse', \n",
    "                             'alpha']\n",
    "bag_ridge_results['mean_rmse'] = bag_ridge_results['mean_rmse'].abs()\n",
    "bag_ridge_results.head(10)"
   ]
  },
  {
   "cell_type": "markdown",
   "id": "d28fd58e",
   "metadata": {},
   "source": [
    "Ridge + unigramm + bigram показывает результат лучше, чем Ridge + unigramm."
   ]
  },
  {
   "cell_type": "markdown",
   "id": "276e9663",
   "metadata": {},
   "source": [
    "#### LGBMRegressor  + unigram"
   ]
  },
  {
   "cell_type": "markdown",
   "id": "13af9858",
   "metadata": {},
   "source": [
    "Для модели градиентного бустинга буду подбирать только гиперпараметры n_estimators, max_depth. max_depth буду брать небольшие, чтобы не переобучиться."
   ]
  },
  {
   "cell_type": "code",
   "execution_count": 33,
   "id": "a4807b9b",
   "metadata": {},
   "outputs": [
    {
     "name": "stdout",
     "output_type": "stream",
     "text": [
      "CPU times: total: 4min 15s\n",
      "Wall time: 8min 4s\n"
     ]
    },
    {
     "data": {
      "text/plain": [
       "({'lgbm__max_depth': 6,\n",
       "  'lgbm__n_estimators': 4000,\n",
       "  'lgbm__n_jobs': -1,\n",
       "  'lgbm__random_state': 42},\n",
       " -2.2285288391214118)"
      ]
     },
     "execution_count": 33,
     "metadata": {},
     "output_type": "execute_result"
    }
   ],
   "source": [
    "%%time\n",
    "pipe_bag_lgbm = Pipeline([('cv', CountVectorizer(dtype=np.float32)), ('lgbm', LGBMRegressor())])\n",
    "param_grid = {'lgbm__n_estimators': [4000, 4500, 5000], \n",
    "              'lgbm__max_depth': [4, 5, 6, 7], \n",
    "              'lgbm__random_state': [RANDOM_STATE],\n",
    "              'lgbm__n_jobs': [-1]}\n",
    "gs_bag_lgbm = GridSearchCV(estimator=pipe_bag_lgbm, \n",
    "                           param_grid=param_grid, \n",
    "                           scoring='neg_root_mean_squared_error',\n",
    "                           cv=5,\n",
    "                           n_jobs=-1)\n",
    "gs_bag_lgbm.fit(X_train, y_train)\n",
    "gs_bag_lgbm.best_params_, gs_bag_lgbm.best_score_"
   ]
  },
  {
   "cell_type": "code",
   "execution_count": 34,
   "id": "3b84d505",
   "metadata": {},
   "outputs": [
    {
     "data": {
      "text/html": [
       "<div>\n",
       "<style scoped>\n",
       "    .dataframe tbody tr th:only-of-type {\n",
       "        vertical-align: middle;\n",
       "    }\n",
       "\n",
       "    .dataframe tbody tr th {\n",
       "        vertical-align: top;\n",
       "    }\n",
       "\n",
       "    .dataframe thead th {\n",
       "        text-align: right;\n",
       "    }\n",
       "</style>\n",
       "<table border=\"1\" class=\"dataframe\">\n",
       "  <thead>\n",
       "    <tr style=\"text-align: right;\">\n",
       "      <th></th>\n",
       "      <th>rank</th>\n",
       "      <th>mean_rmse</th>\n",
       "      <th>std_rmse</th>\n",
       "      <th>n_estimators</th>\n",
       "      <th>max_depth</th>\n",
       "    </tr>\n",
       "  </thead>\n",
       "  <tbody>\n",
       "    <tr>\n",
       "      <th>6</th>\n",
       "      <td>1</td>\n",
       "      <td>2.228529</td>\n",
       "      <td>0.030479</td>\n",
       "      <td>4000</td>\n",
       "      <td>6</td>\n",
       "    </tr>\n",
       "    <tr>\n",
       "      <th>3</th>\n",
       "      <td>2</td>\n",
       "      <td>2.231949</td>\n",
       "      <td>0.027337</td>\n",
       "      <td>4000</td>\n",
       "      <td>5</td>\n",
       "    </tr>\n",
       "    <tr>\n",
       "      <th>7</th>\n",
       "      <td>3</td>\n",
       "      <td>2.232666</td>\n",
       "      <td>0.030058</td>\n",
       "      <td>4500</td>\n",
       "      <td>6</td>\n",
       "    </tr>\n",
       "    <tr>\n",
       "      <th>0</th>\n",
       "      <td>4</td>\n",
       "      <td>2.234264</td>\n",
       "      <td>0.035299</td>\n",
       "      <td>4000</td>\n",
       "      <td>4</td>\n",
       "    </tr>\n",
       "    <tr>\n",
       "      <th>9</th>\n",
       "      <td>5</td>\n",
       "      <td>2.235700</td>\n",
       "      <td>0.025906</td>\n",
       "      <td>4000</td>\n",
       "      <td>7</td>\n",
       "    </tr>\n",
       "    <tr>\n",
       "      <th>1</th>\n",
       "      <td>6</td>\n",
       "      <td>2.236630</td>\n",
       "      <td>0.035805</td>\n",
       "      <td>4500</td>\n",
       "      <td>4</td>\n",
       "    </tr>\n",
       "    <tr>\n",
       "      <th>8</th>\n",
       "      <td>7</td>\n",
       "      <td>2.236796</td>\n",
       "      <td>0.029368</td>\n",
       "      <td>5000</td>\n",
       "      <td>6</td>\n",
       "    </tr>\n",
       "    <tr>\n",
       "      <th>4</th>\n",
       "      <td>8</td>\n",
       "      <td>2.237060</td>\n",
       "      <td>0.026960</td>\n",
       "      <td>4500</td>\n",
       "      <td>5</td>\n",
       "    </tr>\n",
       "    <tr>\n",
       "      <th>2</th>\n",
       "      <td>9</td>\n",
       "      <td>2.239777</td>\n",
       "      <td>0.035573</td>\n",
       "      <td>5000</td>\n",
       "      <td>4</td>\n",
       "    </tr>\n",
       "    <tr>\n",
       "      <th>10</th>\n",
       "      <td>10</td>\n",
       "      <td>2.240167</td>\n",
       "      <td>0.025414</td>\n",
       "      <td>4500</td>\n",
       "      <td>7</td>\n",
       "    </tr>\n",
       "  </tbody>\n",
       "</table>\n",
       "</div>"
      ],
      "text/plain": [
       "    rank  mean_rmse  std_rmse n_estimators max_depth\n",
       "6      1   2.228529  0.030479         4000         6\n",
       "3      2   2.231949  0.027337         4000         5\n",
       "7      3   2.232666  0.030058         4500         6\n",
       "0      4   2.234264  0.035299         4000         4\n",
       "9      5   2.235700  0.025906         4000         7\n",
       "1      6   2.236630  0.035805         4500         4\n",
       "8      7   2.236796  0.029368         5000         6\n",
       "4      8   2.237060  0.026960         4500         5\n",
       "2      9   2.239777  0.035573         5000         4\n",
       "10    10   2.240167  0.025414         4500         7"
      ]
     },
     "execution_count": 34,
     "metadata": {},
     "output_type": "execute_result"
    }
   ],
   "source": [
    "bag_lgbm_results = pd.DataFrame(gs_bag_lgbm.cv_results_)[['rank_test_score',\n",
    "                                                          'mean_test_score', \n",
    "                                                          'std_test_score',\n",
    "                                                          'param_lgbm__n_estimators', \n",
    "                                                          'param_lgbm__max_depth']].sort_values(by='rank_test_score')\n",
    "bag_lgbm_results.columns = ['rank', \n",
    "                            'mean_rmse', \n",
    "                            'std_rmse', \n",
    "                            'n_estimators', \n",
    "                            'max_depth']\n",
    "bag_lgbm_results['mean_rmse'] = bag_lgbm_results['mean_rmse'].abs()\n",
    "bag_lgbm_results.head(10)"
   ]
  },
  {
   "cell_type": "markdown",
   "id": "9aea9386",
   "metadata": {},
   "source": [
    "LGBMRegressor + unigram показывает результат лучше, чем Ridge + unigramm + bigram."
   ]
  },
  {
   "cell_type": "markdown",
   "id": "7e3221d6",
   "metadata": {},
   "source": [
    "#### LGBMRegressor + unigram + bigram"
   ]
  },
  {
   "cell_type": "code",
   "execution_count": 35,
   "id": "0f68f0c7",
   "metadata": {},
   "outputs": [
    {
     "name": "stdout",
     "output_type": "stream",
     "text": [
      "CPU times: total: 6min 49s\n",
      "Wall time: 18min 49s\n"
     ]
    },
    {
     "data": {
      "text/plain": [
       "({'lgbm__max_depth': 5,\n",
       "  'lgbm__n_estimators': 4000,\n",
       "  'lgbm__n_jobs': -1,\n",
       "  'lgbm__random_state': 42},\n",
       " -2.209342796256494)"
      ]
     },
     "execution_count": 35,
     "metadata": {},
     "output_type": "execute_result"
    }
   ],
   "source": [
    "%%time\n",
    "pipe_bag_lgbm = Pipeline([('cv', CountVectorizer(dtype=np.float32, ngram_range=(1, 2))), ('lgbm', LGBMRegressor())])\n",
    "param_grid = {'lgbm__n_estimators': [4000, 4500, 5000], \n",
    "              'lgbm__max_depth': [4, 5, 6, 7], \n",
    "              'lgbm__random_state': [RANDOM_STATE],\n",
    "              'lgbm__n_jobs': [-1]}\n",
    "gs_bag_lgbm = GridSearchCV(estimator=pipe_bag_lgbm, \n",
    "                           param_grid=param_grid, \n",
    "                           scoring='neg_root_mean_squared_error',\n",
    "                           cv=5,\n",
    "                           n_jobs=-1)\n",
    "gs_bag_lgbm.fit(X_train, y_train)\n",
    "gs_bag_lgbm.best_params_, gs_bag_lgbm.best_score_"
   ]
  },
  {
   "cell_type": "code",
   "execution_count": 36,
   "id": "f501cf61",
   "metadata": {},
   "outputs": [
    {
     "data": {
      "text/html": [
       "<div>\n",
       "<style scoped>\n",
       "    .dataframe tbody tr th:only-of-type {\n",
       "        vertical-align: middle;\n",
       "    }\n",
       "\n",
       "    .dataframe tbody tr th {\n",
       "        vertical-align: top;\n",
       "    }\n",
       "\n",
       "    .dataframe thead th {\n",
       "        text-align: right;\n",
       "    }\n",
       "</style>\n",
       "<table border=\"1\" class=\"dataframe\">\n",
       "  <thead>\n",
       "    <tr style=\"text-align: right;\">\n",
       "      <th></th>\n",
       "      <th>rank</th>\n",
       "      <th>mean_rmse</th>\n",
       "      <th>std_rmse</th>\n",
       "      <th>n_estimators</th>\n",
       "      <th>max_depth</th>\n",
       "    </tr>\n",
       "  </thead>\n",
       "  <tbody>\n",
       "    <tr>\n",
       "      <th>3</th>\n",
       "      <td>1</td>\n",
       "      <td>2.209343</td>\n",
       "      <td>0.024874</td>\n",
       "      <td>4000</td>\n",
       "      <td>5</td>\n",
       "    </tr>\n",
       "    <tr>\n",
       "      <th>4</th>\n",
       "      <td>2</td>\n",
       "      <td>2.211802</td>\n",
       "      <td>0.024801</td>\n",
       "      <td>4500</td>\n",
       "      <td>5</td>\n",
       "    </tr>\n",
       "    <tr>\n",
       "      <th>6</th>\n",
       "      <td>3</td>\n",
       "      <td>2.211906</td>\n",
       "      <td>0.026483</td>\n",
       "      <td>4000</td>\n",
       "      <td>6</td>\n",
       "    </tr>\n",
       "    <tr>\n",
       "      <th>0</th>\n",
       "      <td>4</td>\n",
       "      <td>2.212727</td>\n",
       "      <td>0.027259</td>\n",
       "      <td>4000</td>\n",
       "      <td>4</td>\n",
       "    </tr>\n",
       "    <tr>\n",
       "      <th>9</th>\n",
       "      <td>5</td>\n",
       "      <td>2.213821</td>\n",
       "      <td>0.020194</td>\n",
       "      <td>4000</td>\n",
       "      <td>7</td>\n",
       "    </tr>\n",
       "    <tr>\n",
       "      <th>5</th>\n",
       "      <td>6</td>\n",
       "      <td>2.215070</td>\n",
       "      <td>0.023567</td>\n",
       "      <td>5000</td>\n",
       "      <td>5</td>\n",
       "    </tr>\n",
       "    <tr>\n",
       "      <th>1</th>\n",
       "      <td>7</td>\n",
       "      <td>2.215553</td>\n",
       "      <td>0.026957</td>\n",
       "      <td>4500</td>\n",
       "      <td>4</td>\n",
       "    </tr>\n",
       "    <tr>\n",
       "      <th>7</th>\n",
       "      <td>8</td>\n",
       "      <td>2.215930</td>\n",
       "      <td>0.025862</td>\n",
       "      <td>4500</td>\n",
       "      <td>6</td>\n",
       "    </tr>\n",
       "    <tr>\n",
       "      <th>2</th>\n",
       "      <td>9</td>\n",
       "      <td>2.217344</td>\n",
       "      <td>0.026400</td>\n",
       "      <td>5000</td>\n",
       "      <td>4</td>\n",
       "    </tr>\n",
       "    <tr>\n",
       "      <th>10</th>\n",
       "      <td>10</td>\n",
       "      <td>2.218370</td>\n",
       "      <td>0.020221</td>\n",
       "      <td>4500</td>\n",
       "      <td>7</td>\n",
       "    </tr>\n",
       "  </tbody>\n",
       "</table>\n",
       "</div>"
      ],
      "text/plain": [
       "    rank  mean_rmse  std_rmse n_estimators max_depth\n",
       "3      1   2.209343  0.024874         4000         5\n",
       "4      2   2.211802  0.024801         4500         5\n",
       "6      3   2.211906  0.026483         4000         6\n",
       "0      4   2.212727  0.027259         4000         4\n",
       "9      5   2.213821  0.020194         4000         7\n",
       "5      6   2.215070  0.023567         5000         5\n",
       "1      7   2.215553  0.026957         4500         4\n",
       "7      8   2.215930  0.025862         4500         6\n",
       "2      9   2.217344  0.026400         5000         4\n",
       "10    10   2.218370  0.020221         4500         7"
      ]
     },
     "execution_count": 36,
     "metadata": {},
     "output_type": "execute_result"
    }
   ],
   "source": [
    "bag_lgbm_results = pd.DataFrame(gs_bag_lgbm.cv_results_)[['rank_test_score',\n",
    "                                                          'mean_test_score', \n",
    "                                                          'std_test_score',\n",
    "                                                          'param_lgbm__n_estimators', \n",
    "                                                          'param_lgbm__max_depth']].sort_values(by='rank_test_score')\n",
    "bag_lgbm_results.columns = ['rank', \n",
    "                            'mean_rmse', \n",
    "                            'std_rmse', \n",
    "                            'n_estimators', \n",
    "                            'max_depth']\n",
    "bag_lgbm_results['mean_rmse'] = bag_lgbm_results['mean_rmse'].abs()\n",
    "bag_lgbm_results.head(10)"
   ]
  },
  {
   "cell_type": "markdown",
   "id": "6209b402",
   "metadata": {},
   "source": [
    "LGBMRegressor + unigram + bigram показывает результат немного лучше, чем LGBMRegressor + unigram."
   ]
  },
  {
   "cell_type": "markdown",
   "id": "a207ca17",
   "metadata": {},
   "source": [
    "Были исследованы линейные модели, градиентного бустинга (LGBM). Лучшая оценка RMSE на кросс-валидации с использованием мешка слов получена для градиентного бустинга с использованием униграмм и биграмм."
   ]
  },
  {
   "cell_type": "markdown",
   "id": "75231d56",
   "metadata": {},
   "source": [
    "### TF-IDF"
   ]
  },
  {
   "cell_type": "markdown",
   "id": "a17414e9",
   "metadata": {},
   "source": [
    "Создам матрицу cо значениями TF-IDF, используя сами слова из комментариев обучающей выборки и биграммы, составленные по комментариям обучающей выборки. Исследую модели Ridge и LGBM."
   ]
  },
  {
   "cell_type": "markdown",
   "id": "9febd2f9",
   "metadata": {},
   "source": [
    "####  Ridge + TF-IDF + unigram"
   ]
  },
  {
   "cell_type": "code",
   "execution_count": 37,
   "id": "2a65802e",
   "metadata": {},
   "outputs": [
    {
     "name": "stdout",
     "output_type": "stream",
     "text": [
      "CPU times: total: 5.78 s\n",
      "Wall time: 16.2 s\n"
     ]
    },
    {
     "data": {
      "text/plain": [
       "({'ridge__alpha': 1.6000000000000005, 'ridge__random_state': 42},\n",
       " -2.1434593255811825)"
      ]
     },
     "execution_count": 37,
     "metadata": {},
     "output_type": "execute_result"
    }
   ],
   "source": [
    "%%time\n",
    "pipe_tfidf_ridge = Pipeline([('tfidf', TfidfVectorizer()), ('ridge', Ridge())])\n",
    "param_grid = {'ridge__alpha': np.arange(1,  2.1, 0.1), \n",
    "              'ridge__random_state': [RANDOM_STATE]}\n",
    "gs_tfidf_ridge = GridSearchCV(estimator=pipe_tfidf_ridge, \n",
    "                              param_grid=param_grid, \n",
    "                              scoring='neg_root_mean_squared_error',\n",
    "                              cv=5,\n",
    "                              n_jobs=-1)\n",
    "gs_tfidf_ridge.fit(X_train, y_train)\n",
    "gs_tfidf_ridge.best_params_, gs_tfidf_ridge.best_score_"
   ]
  },
  {
   "cell_type": "code",
   "execution_count": 38,
   "id": "0d745d4f",
   "metadata": {},
   "outputs": [
    {
     "data": {
      "text/html": [
       "<div>\n",
       "<style scoped>\n",
       "    .dataframe tbody tr th:only-of-type {\n",
       "        vertical-align: middle;\n",
       "    }\n",
       "\n",
       "    .dataframe tbody tr th {\n",
       "        vertical-align: top;\n",
       "    }\n",
       "\n",
       "    .dataframe thead th {\n",
       "        text-align: right;\n",
       "    }\n",
       "</style>\n",
       "<table border=\"1\" class=\"dataframe\">\n",
       "  <thead>\n",
       "    <tr style=\"text-align: right;\">\n",
       "      <th></th>\n",
       "      <th>rank</th>\n",
       "      <th>mean_rmse</th>\n",
       "      <th>std_rmse</th>\n",
       "      <th>alpha</th>\n",
       "    </tr>\n",
       "  </thead>\n",
       "  <tbody>\n",
       "    <tr>\n",
       "      <th>6</th>\n",
       "      <td>1</td>\n",
       "      <td>2.143459</td>\n",
       "      <td>0.025500</td>\n",
       "      <td>1.6</td>\n",
       "    </tr>\n",
       "    <tr>\n",
       "      <th>7</th>\n",
       "      <td>2</td>\n",
       "      <td>2.143588</td>\n",
       "      <td>0.025569</td>\n",
       "      <td>1.7</td>\n",
       "    </tr>\n",
       "    <tr>\n",
       "      <th>5</th>\n",
       "      <td>3</td>\n",
       "      <td>2.143628</td>\n",
       "      <td>0.025378</td>\n",
       "      <td>1.5</td>\n",
       "    </tr>\n",
       "    <tr>\n",
       "      <th>8</th>\n",
       "      <td>4</td>\n",
       "      <td>2.144013</td>\n",
       "      <td>0.025607</td>\n",
       "      <td>1.8</td>\n",
       "    </tr>\n",
       "    <tr>\n",
       "      <th>4</th>\n",
       "      <td>5</td>\n",
       "      <td>2.144145</td>\n",
       "      <td>0.025262</td>\n",
       "      <td>1.4</td>\n",
       "    </tr>\n",
       "    <tr>\n",
       "      <th>9</th>\n",
       "      <td>6</td>\n",
       "      <td>2.144599</td>\n",
       "      <td>0.025716</td>\n",
       "      <td>1.9</td>\n",
       "    </tr>\n",
       "    <tr>\n",
       "      <th>3</th>\n",
       "      <td>7</td>\n",
       "      <td>2.145089</td>\n",
       "      <td>0.025077</td>\n",
       "      <td>1.3</td>\n",
       "    </tr>\n",
       "    <tr>\n",
       "      <th>10</th>\n",
       "      <td>8</td>\n",
       "      <td>2.145366</td>\n",
       "      <td>0.025746</td>\n",
       "      <td>2.0</td>\n",
       "    </tr>\n",
       "    <tr>\n",
       "      <th>2</th>\n",
       "      <td>9</td>\n",
       "      <td>2.146597</td>\n",
       "      <td>0.024966</td>\n",
       "      <td>1.2</td>\n",
       "    </tr>\n",
       "    <tr>\n",
       "      <th>1</th>\n",
       "      <td>10</td>\n",
       "      <td>2.148740</td>\n",
       "      <td>0.024745</td>\n",
       "      <td>1.1</td>\n",
       "    </tr>\n",
       "  </tbody>\n",
       "</table>\n",
       "</div>"
      ],
      "text/plain": [
       "    rank  mean_rmse  std_rmse alpha\n",
       "6      1   2.143459  0.025500   1.6\n",
       "7      2   2.143588  0.025569   1.7\n",
       "5      3   2.143628  0.025378   1.5\n",
       "8      4   2.144013  0.025607   1.8\n",
       "4      5   2.144145  0.025262   1.4\n",
       "9      6   2.144599  0.025716   1.9\n",
       "3      7   2.145089  0.025077   1.3\n",
       "10     8   2.145366  0.025746   2.0\n",
       "2      9   2.146597  0.024966   1.2\n",
       "1     10   2.148740  0.024745   1.1"
      ]
     },
     "execution_count": 38,
     "metadata": {},
     "output_type": "execute_result"
    }
   ],
   "source": [
    "tfidf_ridge_results = pd.DataFrame(gs_tfidf_ridge.cv_results_)[['rank_test_score',\n",
    "                                                                'mean_test_score', \n",
    "                                                                'std_test_score',\n",
    "                                                                'param_ridge__alpha']].sort_values(by='rank_test_score')\n",
    "tfidf_ridge_results.columns = ['rank', \n",
    "                               'mean_rmse', \n",
    "                               'std_rmse', \n",
    "                               'alpha']\n",
    "tfidf_ridge_results['mean_rmse'] = tfidf_ridge_results['mean_rmse'].abs()\n",
    "tfidf_ridge_results.head(10)"
   ]
  },
  {
   "cell_type": "markdown",
   "id": "53861df5",
   "metadata": {},
   "source": [
    "####  Ridge + TF-IDF + unigram + bigram"
   ]
  },
  {
   "cell_type": "code",
   "execution_count": 39,
   "id": "2548392c",
   "metadata": {},
   "outputs": [
    {
     "name": "stdout",
     "output_type": "stream",
     "text": [
      "CPU times: total: 13.4 s\n",
      "Wall time: 1min 35s\n"
     ]
    },
    {
     "data": {
      "text/plain": [
       "({'ridge__alpha': 0.6, 'ridge__random_state': 42}, -2.081779817746546)"
      ]
     },
     "execution_count": 39,
     "metadata": {},
     "output_type": "execute_result"
    }
   ],
   "source": [
    "%%time\n",
    "pipe_tfidf_ridge = Pipeline([('tfidf', TfidfVectorizer(ngram_range=(1, 2))), ('ridge', Ridge())])\n",
    "param_grid = {'ridge__alpha': np.arange(0.1, 1.1, 0.1), \n",
    "              'ridge__random_state': [RANDOM_STATE]}\n",
    "gs_tfidf_ridge = GridSearchCV(estimator=pipe_tfidf_ridge, \n",
    "                              param_grid=param_grid, \n",
    "                              scoring='neg_root_mean_squared_error',\n",
    "                              cv=5,\n",
    "                              n_jobs=-1)\n",
    "gs_tfidf_ridge.fit(X_train, y_train)\n",
    "gs_tfidf_ridge.best_params_, gs_tfidf_ridge.best_score_"
   ]
  },
  {
   "cell_type": "code",
   "execution_count": 40,
   "id": "d6fafbc0",
   "metadata": {},
   "outputs": [
    {
     "data": {
      "text/html": [
       "<div>\n",
       "<style scoped>\n",
       "    .dataframe tbody tr th:only-of-type {\n",
       "        vertical-align: middle;\n",
       "    }\n",
       "\n",
       "    .dataframe tbody tr th {\n",
       "        vertical-align: top;\n",
       "    }\n",
       "\n",
       "    .dataframe thead th {\n",
       "        text-align: right;\n",
       "    }\n",
       "</style>\n",
       "<table border=\"1\" class=\"dataframe\">\n",
       "  <thead>\n",
       "    <tr style=\"text-align: right;\">\n",
       "      <th></th>\n",
       "      <th>rank</th>\n",
       "      <th>mean_rmse</th>\n",
       "      <th>std_rmse</th>\n",
       "      <th>alpha</th>\n",
       "    </tr>\n",
       "  </thead>\n",
       "  <tbody>\n",
       "    <tr>\n",
       "      <th>5</th>\n",
       "      <td>1</td>\n",
       "      <td>2.081780</td>\n",
       "      <td>0.031032</td>\n",
       "      <td>0.6</td>\n",
       "    </tr>\n",
       "    <tr>\n",
       "      <th>4</th>\n",
       "      <td>2</td>\n",
       "      <td>2.082161</td>\n",
       "      <td>0.031140</td>\n",
       "      <td>0.5</td>\n",
       "    </tr>\n",
       "    <tr>\n",
       "      <th>6</th>\n",
       "      <td>3</td>\n",
       "      <td>2.082211</td>\n",
       "      <td>0.030967</td>\n",
       "      <td>0.7</td>\n",
       "    </tr>\n",
       "    <tr>\n",
       "      <th>7</th>\n",
       "      <td>4</td>\n",
       "      <td>2.083255</td>\n",
       "      <td>0.030901</td>\n",
       "      <td>0.8</td>\n",
       "    </tr>\n",
       "    <tr>\n",
       "      <th>3</th>\n",
       "      <td>5</td>\n",
       "      <td>2.083606</td>\n",
       "      <td>0.031121</td>\n",
       "      <td>0.4</td>\n",
       "    </tr>\n",
       "    <tr>\n",
       "      <th>8</th>\n",
       "      <td>6</td>\n",
       "      <td>2.084904</td>\n",
       "      <td>0.030817</td>\n",
       "      <td>0.9</td>\n",
       "    </tr>\n",
       "    <tr>\n",
       "      <th>2</th>\n",
       "      <td>7</td>\n",
       "      <td>2.086495</td>\n",
       "      <td>0.031198</td>\n",
       "      <td>0.3</td>\n",
       "    </tr>\n",
       "    <tr>\n",
       "      <th>9</th>\n",
       "      <td>8</td>\n",
       "      <td>2.086910</td>\n",
       "      <td>0.030754</td>\n",
       "      <td>1.0</td>\n",
       "    </tr>\n",
       "    <tr>\n",
       "      <th>1</th>\n",
       "      <td>9</td>\n",
       "      <td>2.091298</td>\n",
       "      <td>0.031293</td>\n",
       "      <td>0.2</td>\n",
       "    </tr>\n",
       "    <tr>\n",
       "      <th>0</th>\n",
       "      <td>10</td>\n",
       "      <td>2.099036</td>\n",
       "      <td>0.031307</td>\n",
       "      <td>0.1</td>\n",
       "    </tr>\n",
       "  </tbody>\n",
       "</table>\n",
       "</div>"
      ],
      "text/plain": [
       "   rank  mean_rmse  std_rmse alpha\n",
       "5     1   2.081780  0.031032   0.6\n",
       "4     2   2.082161  0.031140   0.5\n",
       "6     3   2.082211  0.030967   0.7\n",
       "7     4   2.083255  0.030901   0.8\n",
       "3     5   2.083606  0.031121   0.4\n",
       "8     6   2.084904  0.030817   0.9\n",
       "2     7   2.086495  0.031198   0.3\n",
       "9     8   2.086910  0.030754   1.0\n",
       "1     9   2.091298  0.031293   0.2\n",
       "0    10   2.099036  0.031307   0.1"
      ]
     },
     "execution_count": 40,
     "metadata": {},
     "output_type": "execute_result"
    }
   ],
   "source": [
    "tfidf_ridge_results = pd.DataFrame(gs_tfidf_ridge.cv_results_)[['rank_test_score',\n",
    "                                                                'mean_test_score', \n",
    "                                                                'std_test_score',\n",
    "                                                                'param_ridge__alpha']].sort_values(by='rank_test_score')\n",
    "tfidf_ridge_results.columns = ['rank', \n",
    "                               'mean_rmse', \n",
    "                               'std_rmse', \n",
    "                               'alpha']\n",
    "tfidf_ridge_results['mean_rmse'] = tfidf_ridge_results['mean_rmse'].abs()\n",
    "tfidf_ridge_results.head(10)"
   ]
  },
  {
   "cell_type": "markdown",
   "id": "0230e1f4",
   "metadata": {},
   "source": [
    "####  LGBM + TF-IDF + unigram"
   ]
  },
  {
   "cell_type": "code",
   "execution_count": 41,
   "id": "728d81bb",
   "metadata": {},
   "outputs": [
    {
     "name": "stdout",
     "output_type": "stream",
     "text": [
      "CPU times: total: 18min 21s\n",
      "Wall time: 38min 11s\n"
     ]
    },
    {
     "data": {
      "text/plain": [
       "({'lgbm__max_depth': 2,\n",
       "  'lgbm__n_estimators': 5000,\n",
       "  'lgbm__n_jobs': -1,\n",
       "  'lgbm__random_state': 42},\n",
       " -2.2317552415176243)"
      ]
     },
     "execution_count": 41,
     "metadata": {},
     "output_type": "execute_result"
    }
   ],
   "source": [
    "%%time\n",
    "pipe_tfidf_lgbm = Pipeline([('tfidf', TfidfVectorizer(dtype=np.float32)), ('lgbm', LGBMRegressor())])\n",
    "param_grid = {'lgbm__n_estimators': [100, 500, 1000, 5000], \n",
    "              'lgbm__max_depth': [1, 2, 3, 4, 5, 6, 7], \n",
    "              'lgbm__random_state': [RANDOM_STATE],\n",
    "              'lgbm__n_jobs': [-1]}\n",
    "gs_tfidf_lgbm = GridSearchCV(estimator=pipe_tfidf_lgbm, \n",
    "                           param_grid=param_grid, \n",
    "                           scoring='neg_root_mean_squared_error',\n",
    "                           cv=5,\n",
    "                           n_jobs=-1)\n",
    "gs_tfidf_lgbm.fit(X_train, y_train)\n",
    "gs_tfidf_lgbm.best_params_, gs_tfidf_lgbm.best_score_"
   ]
  },
  {
   "cell_type": "code",
   "execution_count": 42,
   "id": "b66188f8",
   "metadata": {},
   "outputs": [
    {
     "data": {
      "text/html": [
       "<div>\n",
       "<style scoped>\n",
       "    .dataframe tbody tr th:only-of-type {\n",
       "        vertical-align: middle;\n",
       "    }\n",
       "\n",
       "    .dataframe tbody tr th {\n",
       "        vertical-align: top;\n",
       "    }\n",
       "\n",
       "    .dataframe thead th {\n",
       "        text-align: right;\n",
       "    }\n",
       "</style>\n",
       "<table border=\"1\" class=\"dataframe\">\n",
       "  <thead>\n",
       "    <tr style=\"text-align: right;\">\n",
       "      <th></th>\n",
       "      <th>rank</th>\n",
       "      <th>mean_rmse</th>\n",
       "      <th>std_rmse</th>\n",
       "      <th>n_estimators</th>\n",
       "      <th>max_depth</th>\n",
       "    </tr>\n",
       "  </thead>\n",
       "  <tbody>\n",
       "    <tr>\n",
       "      <th>7</th>\n",
       "      <td>1</td>\n",
       "      <td>2.231755</td>\n",
       "      <td>0.030309</td>\n",
       "      <td>5000</td>\n",
       "      <td>2</td>\n",
       "    </tr>\n",
       "    <tr>\n",
       "      <th>26</th>\n",
       "      <td>2</td>\n",
       "      <td>2.233593</td>\n",
       "      <td>0.033257</td>\n",
       "      <td>1000</td>\n",
       "      <td>7</td>\n",
       "    </tr>\n",
       "    <tr>\n",
       "      <th>22</th>\n",
       "      <td>3</td>\n",
       "      <td>2.238340</td>\n",
       "      <td>0.035401</td>\n",
       "      <td>1000</td>\n",
       "      <td>6</td>\n",
       "    </tr>\n",
       "    <tr>\n",
       "      <th>11</th>\n",
       "      <td>4</td>\n",
       "      <td>2.239793</td>\n",
       "      <td>0.028552</td>\n",
       "      <td>5000</td>\n",
       "      <td>3</td>\n",
       "    </tr>\n",
       "    <tr>\n",
       "      <th>18</th>\n",
       "      <td>5</td>\n",
       "      <td>2.241156</td>\n",
       "      <td>0.028432</td>\n",
       "      <td>1000</td>\n",
       "      <td>5</td>\n",
       "    </tr>\n",
       "    <tr>\n",
       "      <th>14</th>\n",
       "      <td>6</td>\n",
       "      <td>2.248301</td>\n",
       "      <td>0.027446</td>\n",
       "      <td>1000</td>\n",
       "      <td>4</td>\n",
       "    </tr>\n",
       "    <tr>\n",
       "      <th>15</th>\n",
       "      <td>7</td>\n",
       "      <td>2.248867</td>\n",
       "      <td>0.026020</td>\n",
       "      <td>5000</td>\n",
       "      <td>4</td>\n",
       "    </tr>\n",
       "    <tr>\n",
       "      <th>19</th>\n",
       "      <td>8</td>\n",
       "      <td>2.252070</td>\n",
       "      <td>0.030328</td>\n",
       "      <td>5000</td>\n",
       "      <td>5</td>\n",
       "    </tr>\n",
       "    <tr>\n",
       "      <th>25</th>\n",
       "      <td>9</td>\n",
       "      <td>2.252643</td>\n",
       "      <td>0.033902</td>\n",
       "      <td>500</td>\n",
       "      <td>7</td>\n",
       "    </tr>\n",
       "    <tr>\n",
       "      <th>27</th>\n",
       "      <td>10</td>\n",
       "      <td>2.257362</td>\n",
       "      <td>0.029531</td>\n",
       "      <td>5000</td>\n",
       "      <td>7</td>\n",
       "    </tr>\n",
       "  </tbody>\n",
       "</table>\n",
       "</div>"
      ],
      "text/plain": [
       "    rank  mean_rmse  std_rmse n_estimators max_depth\n",
       "7      1   2.231755  0.030309         5000         2\n",
       "26     2   2.233593  0.033257         1000         7\n",
       "22     3   2.238340  0.035401         1000         6\n",
       "11     4   2.239793  0.028552         5000         3\n",
       "18     5   2.241156  0.028432         1000         5\n",
       "14     6   2.248301  0.027446         1000         4\n",
       "15     7   2.248867  0.026020         5000         4\n",
       "19     8   2.252070  0.030328         5000         5\n",
       "25     9   2.252643  0.033902          500         7\n",
       "27    10   2.257362  0.029531         5000         7"
      ]
     },
     "execution_count": 42,
     "metadata": {},
     "output_type": "execute_result"
    }
   ],
   "source": [
    "tfidf_lgbm_results = pd.DataFrame(gs_tfidf_lgbm.cv_results_)[['rank_test_score',\n",
    "                                                              'mean_test_score', \n",
    "                                                              'std_test_score',\n",
    "                                                              'param_lgbm__n_estimators', \n",
    "                                                              'param_lgbm__max_depth']].sort_values(by='rank_test_score')\n",
    "tfidf_lgbm_results.columns = ['rank', \n",
    "                              'mean_rmse', \n",
    "                              'std_rmse', \n",
    "                              'n_estimators', \n",
    "                              'max_depth']\n",
    "tfidf_lgbm_results['mean_rmse'] = tfidf_lgbm_results['mean_rmse'].abs()\n",
    "tfidf_lgbm_results.head(10)"
   ]
  },
  {
   "cell_type": "markdown",
   "id": "5536fa87",
   "metadata": {},
   "source": [
    "При кодировании текста с помощью  TF-IDF градиентный бустинг показывает результаты хуже, чем Ridge."
   ]
  },
  {
   "cell_type": "markdown",
   "id": "abd04d53",
   "metadata": {},
   "source": [
    "Были исследованы модели линейная Ridge и градиентного бустинга (LGBM). Лучшая оценка RMSE на кросс-валидации с использованием матрицы cо значениями TF-IDF получена для для Ridge с использованием униграмм и биграмм."
   ]
  },
  {
   "cell_type": "markdown",
   "id": "be51bdb9",
   "metadata": {},
   "source": [
    "### Выводы"
   ]
  },
  {
   "cell_type": "markdown",
   "id": "79c9bfb8",
   "metadata": {},
   "source": [
    "Лучшие результаты RMSE на кросс-валидации показала модель Ridge с кодировкой текста с помощью TF-IDF, были использованы униграммы и биграммы . Также Ridge обучается быстрее других моделей использованных в исследовании."
   ]
  },
  {
   "cell_type": "markdown",
   "id": "4f071b34",
   "metadata": {},
   "source": [
    "## Оценка лучшей модели"
   ]
  },
  {
   "cell_type": "markdown",
   "id": "53aaeeef",
   "metadata": {},
   "source": [
    "### Параметры лучшей модели"
   ]
  },
  {
   "cell_type": "code",
   "execution_count": 43,
   "id": "3fe1d3ba",
   "metadata": {},
   "outputs": [
    {
     "name": "stdout",
     "output_type": "stream",
     "text": [
      "Лучшая модель:\n"
     ]
    },
    {
     "data": {
      "text/plain": [
       "Pipeline(steps=[('tfidf', TfidfVectorizer(ngram_range=(1, 2))),\n",
       "                ('ridge', Ridge(alpha=0.6, random_state=42))])"
      ]
     },
     "execution_count": 43,
     "metadata": {},
     "output_type": "execute_result"
    }
   ],
   "source": [
    "print('Лучшая модель:')\n",
    "best_model = gs_tfidf_ridge.best_estimator_\n",
    "best_model"
   ]
  },
  {
   "cell_type": "code",
   "execution_count": 44,
   "id": "c3cdf0cc",
   "metadata": {},
   "outputs": [],
   "source": [
    "with open(\"best_model.pkl\", \"wb\") as f:\n",
    "    pickle.dump(best_model, f)"
   ]
  },
  {
   "cell_type": "markdown",
   "id": "b096dc86",
   "metadata": {},
   "source": [
    "Сохраняю лучшую модель."
   ]
  },
  {
   "cell_type": "markdown",
   "id": "058bcbf9",
   "metadata": {},
   "source": [
    "### Оценки RMSE для лучшей модели"
   ]
  },
  {
   "cell_type": "code",
   "execution_count": 45,
   "id": "80e66530",
   "metadata": {},
   "outputs": [
    {
     "name": "stdout",
     "output_type": "stream",
     "text": [
      "RMSE лучшей модели на обучающей выборке: 0.8604870773465894\n",
      "RMSE лучшей модели на тестовой выборке: 2.1316809224354865\n"
     ]
    }
   ],
   "source": [
    "print('RMSE лучшей модели на обучающей выборке:', \n",
    "      mean_squared_error(y_train, best_model.predict(X_train), squared=False))\n",
    "print('RMSE лучшей модели на тестовой выборке:', \n",
    "      mean_squared_error(y_test, best_model.predict(X_test), squared=False))"
   ]
  },
  {
   "cell_type": "code",
   "execution_count": 46,
   "id": "8a6bdbdb",
   "metadata": {},
   "outputs": [
    {
     "name": "stdout",
     "output_type": "stream",
     "text": [
      "RMSE \"наивного\" регрессора на тестовой выборке: 3.491010440545831\n"
     ]
    }
   ],
   "source": [
    "print('RMSE \"наивного\" регрессора на тестовой выборке:', \n",
    "      mean_squared_error(y_test, DummyRegressor().fit(X_train, y_train).predict(X_test), squared=False))"
   ]
  },
  {
   "cell_type": "markdown",
   "id": "081a3ad2",
   "metadata": {},
   "source": [
    "RMSE на тесте для лучшей модели меньше, чем для \"наивной\", обучение сработало корректно."
   ]
  },
  {
   "cell_type": "markdown",
   "id": "f31ed263",
   "metadata": {},
   "source": [
    "### Решающие слова"
   ]
  },
  {
   "cell_type": "code",
   "execution_count": 47,
   "id": "5c449dcb",
   "metadata": {
    "scrolled": false
   },
   "outputs": [
    {
     "name": "stdout",
     "output_type": "stream",
     "text": [
      "bad\n",
      "awful\n",
      "great\n",
      "excellent\n",
      "waste\n",
      "10 10\n",
      "best\n",
      "wonderful\n",
      "boring\n",
      "poor\n",
      "love\n",
      "favorite\n",
      "terrible\n",
      "nothing\n",
      "amaze\n",
      "perfect\n",
      "horrible\n",
      "save\n",
      "insult\n",
      "brilliant\n",
      "superb\n",
      "today\n",
      "suppose\n",
      "stupid\n",
      "ridiculous\n",
      "poorly\n",
      "must see\n",
      "enjoy\n",
      "annoy\n",
      "unfortunately\n",
      "instead\n",
      "pointless\n",
      "avoid\n",
      "disappointment\n",
      "lack\n",
      "mess\n",
      "fails\n",
      "lame\n",
      "oh\n",
      "garbage\n",
      "funniest\n",
      "one best\n",
      "fun\n",
      "crap\n",
      "fantastic\n",
      "embarrass\n",
      "even\n",
      "awesome\n",
      "highly\n",
      "hilarious\n"
     ]
    }
   ],
   "source": [
    "coef = best_model.steps[1][1].coef_\n",
    "vocabulary = best_model.steps[0][1].vocabulary_ \n",
    "importance = []\n",
    "words = []\n",
    "for word in vocabulary:\n",
    "    words.append(word)\n",
    "    importance.append(abs(coef[vocabulary[word]]))\n",
    "feature_importance = pd.Series(data=importance, index=words).sort_values(ascending=False)\n",
    "print(*feature_importance.head(50).index, sep='\\n')"
   ]
  },
  {
   "cell_type": "code",
   "execution_count": 48,
   "id": "b4aac344",
   "metadata": {},
   "outputs": [
    {
     "data": {
      "image/png": "[encoded data removed]",
      "text/plain": [
       "<Figure size 900x600 with 1 Axes>"
      ]
     },
     "metadata": {},
     "output_type": "display_data"
    }
   ],
   "source": [
    "feature_importance.head(50).plot(kind='bar',\n",
    "      title='Самые важные слова для модели при задании оценки',\n",
    "      figsize=(9, 6));"
   ]
  },
  {
   "cell_type": "markdown",
   "id": "d71cc82f",
   "metadata": {},
   "source": [
    "Сюдя по графику решающее значение для модели в определении категории комментария представляет наличие либо очень положительных слов, либо резко отрицательных. Примечательно, что в 50 важных для модели слов попали биграммы \"10 10\" и \"must see\"."
   ]
  },
  {
   "cell_type": "markdown",
   "id": "853db0c4",
   "metadata": {},
   "source": [
    "### Преобразование вещественных предсказаний в оценки"
   ]
  },
  {
   "cell_type": "markdown",
   "id": "e967ae0a",
   "metadata": {},
   "source": [
    "Модель предсказывает вещественное число, но задача стоит предсказать оценку комментария - целое число от 1 до 10 включительно. Напишу функцию, которая преобразует предсказание модели в предсказание оценки."
   ]
  },
  {
   "cell_type": "code",
   "execution_count": 61,
   "id": "4386c98a",
   "metadata": {},
   "outputs": [],
   "source": [
    "def get_score_pred(y_pred):\n",
    "    y_pred = y_pred.round().astype('int')\n",
    "    y_pred = np.where(y_pred < 1, 1, y_pred)\n",
    "    y_pred = np.where(y_pred > 10, 10, y_pred)\n",
    "    return y_pred"
   ]
  },
  {
   "cell_type": "markdown",
   "id": "7b148608",
   "metadata": {},
   "source": [
    "get_score_pred - функция, принимает вектор предсказаний модели и преобразует его в вектор оценок."
   ]
  },
  {
   "cell_type": "markdown",
   "id": "ce77c813",
   "metadata": {},
   "source": [
    "Оценивать результаты буду с помощью метрики MAE, которая покажет на сколько в среднем абсолютно в баллах ошибается модель."
   ]
  },
  {
   "cell_type": "code",
   "execution_count": 62,
   "id": "3b8bc21f",
   "metadata": {},
   "outputs": [
    {
     "name": "stdout",
     "output_type": "stream",
     "text": [
      "MAE определения класса лучшей модели на обучающей выборке: 0.65136\n",
      "MAE определения класса лучшей модели на тестовой выборке: 1.58912\n"
     ]
    }
   ],
   "source": [
    "print('MAE определения класса лучшей модели на обучающей выборке:', \n",
    "      mean_absolute_error(y_train, get_score_pred(best_model.predict(X_train))))\n",
    "print('MAE определения класса лучшей модели на тестовой выборке:', \n",
    "      mean_absolute_error(y_test, get_score_pred(best_model.predict(X_test))))"
   ]
  },
  {
   "cell_type": "code",
   "execution_count": 63,
   "id": "fc2060a2",
   "metadata": {
    "scrolled": true
   },
   "outputs": [
    {
     "name": "stdout",
     "output_type": "stream",
     "text": [
      "MAE определения класса \"наивного\" регрессора на тестовой выборке: 3.28984\n"
     ]
    }
   ],
   "source": [
    "print('MAE определения класса \"наивного\" регрессора на тестовой выборке:', \n",
    "      mean_absolute_error(y_test, get_score_pred(DummyRegressor().fit(X_train, y_train).predict(X_test))))"
   ]
  },
  {
   "cell_type": "markdown",
   "id": "27c97e34",
   "metadata": {},
   "source": [
    "На тестовой выборке модель абсолютно ошибается в среднем  на 1.6 балла, это хороший результат, так как у \"наивной\" модели средняя абсолютная ошибка в два раза больше."
   ]
  },
  {
   "cell_type": "code",
   "execution_count": 92,
   "id": "49085c2b",
   "metadata": {
    "scrolled": false
   },
   "outputs": [
    {
     "data": {
      "text/html": [
       "<div>\n",
       "<style scoped>\n",
       "    .dataframe tbody tr th:only-of-type {\n",
       "        vertical-align: middle;\n",
       "    }\n",
       "\n",
       "    .dataframe tbody tr th {\n",
       "        vertical-align: top;\n",
       "    }\n",
       "\n",
       "    .dataframe thead th {\n",
       "        text-align: right;\n",
       "    }\n",
       "</style>\n",
       "<table border=\"1\" class=\"dataframe\">\n",
       "  <thead>\n",
       "    <tr style=\"text-align: right;\">\n",
       "      <th></th>\n",
       "      <th>true</th>\n",
       "      <th>pred</th>\n",
       "      <th>0</th>\n",
       "      <th>1</th>\n",
       "      <th>2</th>\n",
       "      <th>3</th>\n",
       "      <th>4</th>\n",
       "      <th>5</th>\n",
       "      <th>6</th>\n",
       "      <th>7</th>\n",
       "      <th>8</th>\n",
       "      <th>9</th>\n",
       "    </tr>\n",
       "  </thead>\n",
       "  <tbody>\n",
       "    <tr>\n",
       "      <th>0</th>\n",
       "      <td>2</td>\n",
       "      <td>4</td>\n",
       "      <td>True</td>\n",
       "      <td>True</td>\n",
       "      <td>False</td>\n",
       "      <td>False</td>\n",
       "      <td>False</td>\n",
       "      <td>False</td>\n",
       "      <td>False</td>\n",
       "      <td>False</td>\n",
       "      <td>False</td>\n",
       "      <td>False</td>\n",
       "    </tr>\n",
       "    <tr>\n",
       "      <th>1</th>\n",
       "      <td>4</td>\n",
       "      <td>4</td>\n",
       "      <td>False</td>\n",
       "      <td>False</td>\n",
       "      <td>False</td>\n",
       "      <td>False</td>\n",
       "      <td>False</td>\n",
       "      <td>False</td>\n",
       "      <td>False</td>\n",
       "      <td>False</td>\n",
       "      <td>False</td>\n",
       "      <td>False</td>\n",
       "    </tr>\n",
       "    <tr>\n",
       "      <th>2</th>\n",
       "      <td>1</td>\n",
       "      <td>1</td>\n",
       "      <td>False</td>\n",
       "      <td>False</td>\n",
       "      <td>False</td>\n",
       "      <td>False</td>\n",
       "      <td>False</td>\n",
       "      <td>False</td>\n",
       "      <td>False</td>\n",
       "      <td>False</td>\n",
       "      <td>False</td>\n",
       "      <td>False</td>\n",
       "    </tr>\n",
       "    <tr>\n",
       "      <th>3</th>\n",
       "      <td>3</td>\n",
       "      <td>4</td>\n",
       "      <td>True</td>\n",
       "      <td>False</td>\n",
       "      <td>False</td>\n",
       "      <td>False</td>\n",
       "      <td>False</td>\n",
       "      <td>False</td>\n",
       "      <td>False</td>\n",
       "      <td>False</td>\n",
       "      <td>False</td>\n",
       "      <td>False</td>\n",
       "    </tr>\n",
       "    <tr>\n",
       "      <th>4</th>\n",
       "      <td>3</td>\n",
       "      <td>5</td>\n",
       "      <td>True</td>\n",
       "      <td>True</td>\n",
       "      <td>False</td>\n",
       "      <td>False</td>\n",
       "      <td>False</td>\n",
       "      <td>False</td>\n",
       "      <td>False</td>\n",
       "      <td>False</td>\n",
       "      <td>False</td>\n",
       "      <td>False</td>\n",
       "    </tr>\n",
       "    <tr>\n",
       "      <th>...</th>\n",
       "      <td>...</td>\n",
       "      <td>...</td>\n",
       "      <td>...</td>\n",
       "      <td>...</td>\n",
       "      <td>...</td>\n",
       "      <td>...</td>\n",
       "      <td>...</td>\n",
       "      <td>...</td>\n",
       "      <td>...</td>\n",
       "      <td>...</td>\n",
       "      <td>...</td>\n",
       "      <td>...</td>\n",
       "    </tr>\n",
       "    <tr>\n",
       "      <th>24995</th>\n",
       "      <td>8</td>\n",
       "      <td>10</td>\n",
       "      <td>True</td>\n",
       "      <td>True</td>\n",
       "      <td>False</td>\n",
       "      <td>False</td>\n",
       "      <td>False</td>\n",
       "      <td>False</td>\n",
       "      <td>False</td>\n",
       "      <td>False</td>\n",
       "      <td>False</td>\n",
       "      <td>False</td>\n",
       "    </tr>\n",
       "    <tr>\n",
       "      <th>24996</th>\n",
       "      <td>10</td>\n",
       "      <td>8</td>\n",
       "      <td>True</td>\n",
       "      <td>True</td>\n",
       "      <td>False</td>\n",
       "      <td>False</td>\n",
       "      <td>False</td>\n",
       "      <td>False</td>\n",
       "      <td>False</td>\n",
       "      <td>False</td>\n",
       "      <td>False</td>\n",
       "      <td>False</td>\n",
       "    </tr>\n",
       "    <tr>\n",
       "      <th>24997</th>\n",
       "      <td>8</td>\n",
       "      <td>8</td>\n",
       "      <td>False</td>\n",
       "      <td>False</td>\n",
       "      <td>False</td>\n",
       "      <td>False</td>\n",
       "      <td>False</td>\n",
       "      <td>False</td>\n",
       "      <td>False</td>\n",
       "      <td>False</td>\n",
       "      <td>False</td>\n",
       "      <td>False</td>\n",
       "    </tr>\n",
       "    <tr>\n",
       "      <th>24998</th>\n",
       "      <td>10</td>\n",
       "      <td>7</td>\n",
       "      <td>True</td>\n",
       "      <td>True</td>\n",
       "      <td>True</td>\n",
       "      <td>False</td>\n",
       "      <td>False</td>\n",
       "      <td>False</td>\n",
       "      <td>False</td>\n",
       "      <td>False</td>\n",
       "      <td>False</td>\n",
       "      <td>False</td>\n",
       "    </tr>\n",
       "    <tr>\n",
       "      <th>24999</th>\n",
       "      <td>7</td>\n",
       "      <td>7</td>\n",
       "      <td>False</td>\n",
       "      <td>False</td>\n",
       "      <td>False</td>\n",
       "      <td>False</td>\n",
       "      <td>False</td>\n",
       "      <td>False</td>\n",
       "      <td>False</td>\n",
       "      <td>False</td>\n",
       "      <td>False</td>\n",
       "      <td>False</td>\n",
       "    </tr>\n",
       "  </tbody>\n",
       "</table>\n",
       "<p>25000 rows × 12 columns</p>\n",
       "</div>"
      ],
      "text/plain": [
       "       true  pred      0      1      2      3      4      5      6      7  \\\n",
       "0         2     4   True   True  False  False  False  False  False  False   \n",
       "1         4     4  False  False  False  False  False  False  False  False   \n",
       "2         1     1  False  False  False  False  False  False  False  False   \n",
       "3         3     4   True  False  False  False  False  False  False  False   \n",
       "4         3     5   True   True  False  False  False  False  False  False   \n",
       "...     ...   ...    ...    ...    ...    ...    ...    ...    ...    ...   \n",
       "24995     8    10   True   True  False  False  False  False  False  False   \n",
       "24996    10     8   True   True  False  False  False  False  False  False   \n",
       "24997     8     8  False  False  False  False  False  False  False  False   \n",
       "24998    10     7   True   True   True  False  False  False  False  False   \n",
       "24999     7     7  False  False  False  False  False  False  False  False   \n",
       "\n",
       "           8      9  \n",
       "0      False  False  \n",
       "1      False  False  \n",
       "2      False  False  \n",
       "3      False  False  \n",
       "4      False  False  \n",
       "...      ...    ...  \n",
       "24995  False  False  \n",
       "24996  False  False  \n",
       "24997  False  False  \n",
       "24998  False  False  \n",
       "24999  False  False  \n",
       "\n",
       "[25000 rows x 12 columns]"
      ]
     },
     "execution_count": 92,
     "metadata": {},
     "output_type": "execute_result"
    }
   ],
   "source": [
    "y_score_pred = get_score_pred(best_model.predict(X_test))\n",
    "df_error = pd.DataFrame({'true': y_test, 'pred': y_score_pred})\n",
    "for i in range(10):\n",
    "    df_error[f'{i}'] = abs(df_error['true'] - df_error['pred']) > i\n",
    "df_error"
   ]
  },
  {
   "cell_type": "markdown",
   "id": "1f20c610",
   "metadata": {},
   "source": [
    "По истинным значениям и предсказаниям для тестовой выборки создаю датасет, который содержит 10 столбцов i. i - порядок ошибки - есть ли ошибка между истинным и предсказанным значением абсолютной разницы большей i баллов."
   ]
  },
  {
   "cell_type": "code",
   "execution_count": 93,
   "id": "eaab8b93",
   "metadata": {},
   "outputs": [
    {
     "data": {
      "text/html": [
       "<div>\n",
       "<style scoped>\n",
       "    .dataframe tbody tr th:only-of-type {\n",
       "        vertical-align: middle;\n",
       "    }\n",
       "\n",
       "    .dataframe tbody tr th {\n",
       "        vertical-align: top;\n",
       "    }\n",
       "\n",
       "    .dataframe thead th {\n",
       "        text-align: right;\n",
       "    }\n",
       "</style>\n",
       "<table border=\"1\" class=\"dataframe\">\n",
       "  <thead>\n",
       "    <tr style=\"text-align: right;\">\n",
       "      <th></th>\n",
       "      <th>0</th>\n",
       "      <th>1</th>\n",
       "      <th>2</th>\n",
       "      <th>3</th>\n",
       "      <th>4</th>\n",
       "      <th>5</th>\n",
       "      <th>6</th>\n",
       "      <th>7</th>\n",
       "      <th>8</th>\n",
       "      <th>9</th>\n",
       "    </tr>\n",
       "    <tr>\n",
       "      <th>true</th>\n",
       "      <th></th>\n",
       "      <th></th>\n",
       "      <th></th>\n",
       "      <th></th>\n",
       "      <th></th>\n",
       "      <th></th>\n",
       "      <th></th>\n",
       "      <th></th>\n",
       "      <th></th>\n",
       "      <th></th>\n",
       "    </tr>\n",
       "  </thead>\n",
       "  <tbody>\n",
       "    <tr>\n",
       "      <th>1</th>\n",
       "      <td>69.0</td>\n",
       "      <td>49.0</td>\n",
       "      <td>30.0</td>\n",
       "      <td>14.0</td>\n",
       "      <td>5.0</td>\n",
       "      <td>2.0</td>\n",
       "      <td>0.0</td>\n",
       "      <td>0.0</td>\n",
       "      <td>0.0</td>\n",
       "      <td>0.0</td>\n",
       "    </tr>\n",
       "    <tr>\n",
       "      <th>2</th>\n",
       "      <td>83.0</td>\n",
       "      <td>42.0</td>\n",
       "      <td>22.0</td>\n",
       "      <td>9.0</td>\n",
       "      <td>3.0</td>\n",
       "      <td>1.0</td>\n",
       "      <td>0.0</td>\n",
       "      <td>0.0</td>\n",
       "      <td>0.0</td>\n",
       "      <td>0.0</td>\n",
       "    </tr>\n",
       "    <tr>\n",
       "      <th>3</th>\n",
       "      <td>80.0</td>\n",
       "      <td>43.0</td>\n",
       "      <td>14.0</td>\n",
       "      <td>4.0</td>\n",
       "      <td>1.0</td>\n",
       "      <td>0.0</td>\n",
       "      <td>0.0</td>\n",
       "      <td>0.0</td>\n",
       "      <td>0.0</td>\n",
       "      <td>0.0</td>\n",
       "    </tr>\n",
       "    <tr>\n",
       "      <th>4</th>\n",
       "      <td>75.0</td>\n",
       "      <td>36.0</td>\n",
       "      <td>14.0</td>\n",
       "      <td>2.0</td>\n",
       "      <td>1.0</td>\n",
       "      <td>0.0</td>\n",
       "      <td>0.0</td>\n",
       "      <td>0.0</td>\n",
       "      <td>0.0</td>\n",
       "      <td>0.0</td>\n",
       "    </tr>\n",
       "    <tr>\n",
       "      <th>7</th>\n",
       "      <td>74.0</td>\n",
       "      <td>33.0</td>\n",
       "      <td>11.0</td>\n",
       "      <td>2.0</td>\n",
       "      <td>0.0</td>\n",
       "      <td>0.0</td>\n",
       "      <td>0.0</td>\n",
       "      <td>0.0</td>\n",
       "      <td>0.0</td>\n",
       "      <td>0.0</td>\n",
       "    </tr>\n",
       "    <tr>\n",
       "      <th>8</th>\n",
       "      <td>77.0</td>\n",
       "      <td>38.0</td>\n",
       "      <td>12.0</td>\n",
       "      <td>3.0</td>\n",
       "      <td>1.0</td>\n",
       "      <td>0.0</td>\n",
       "      <td>0.0</td>\n",
       "      <td>0.0</td>\n",
       "      <td>0.0</td>\n",
       "      <td>0.0</td>\n",
       "    </tr>\n",
       "    <tr>\n",
       "      <th>9</th>\n",
       "      <td>83.0</td>\n",
       "      <td>45.0</td>\n",
       "      <td>23.0</td>\n",
       "      <td>8.0</td>\n",
       "      <td>2.0</td>\n",
       "      <td>1.0</td>\n",
       "      <td>0.0</td>\n",
       "      <td>0.0</td>\n",
       "      <td>0.0</td>\n",
       "      <td>0.0</td>\n",
       "    </tr>\n",
       "    <tr>\n",
       "      <th>10</th>\n",
       "      <td>81.0</td>\n",
       "      <td>60.0</td>\n",
       "      <td>36.0</td>\n",
       "      <td>18.0</td>\n",
       "      <td>7.0</td>\n",
       "      <td>2.0</td>\n",
       "      <td>0.0</td>\n",
       "      <td>0.0</td>\n",
       "      <td>0.0</td>\n",
       "      <td>0.0</td>\n",
       "    </tr>\n",
       "  </tbody>\n",
       "</table>\n",
       "</div>"
      ],
      "text/plain": [
       "         0     1     2     3    4    5    6    7    8    9\n",
       "true                                                      \n",
       "1     69.0  49.0  30.0  14.0  5.0  2.0  0.0  0.0  0.0  0.0\n",
       "2     83.0  42.0  22.0   9.0  3.0  1.0  0.0  0.0  0.0  0.0\n",
       "3     80.0  43.0  14.0   4.0  1.0  0.0  0.0  0.0  0.0  0.0\n",
       "4     75.0  36.0  14.0   2.0  1.0  0.0  0.0  0.0  0.0  0.0\n",
       "7     74.0  33.0  11.0   2.0  0.0  0.0  0.0  0.0  0.0  0.0\n",
       "8     77.0  38.0  12.0   3.0  1.0  0.0  0.0  0.0  0.0  0.0\n",
       "9     83.0  45.0  23.0   8.0  2.0  1.0  0.0  0.0  0.0  0.0\n",
       "10    81.0  60.0  36.0  18.0  7.0  2.0  0.0  0.0  0.0  0.0"
      ]
     },
     "execution_count": 93,
     "metadata": {},
     "output_type": "execute_result"
    }
   ],
   "source": [
    "error_by_score = df_error.drop(columns=['pred']).groupby('true').sum()\\\n",
    ".apply(lambda x: round(x / df_error['true'].value_counts().sort_index() * 100))\n",
    "error_by_score"
   ]
  },
  {
   "cell_type": "markdown",
   "id": "4e9546d2",
   "metadata": {},
   "source": [
    "Таблица представляет собой процент ошибок порядка 0, 1, 2... для каждой оценки."
   ]
  },
  {
   "cell_type": "code",
   "execution_count": 105,
   "id": "4fbcd392",
   "metadata": {},
   "outputs": [
    {
     "data": {
      "image/png": "[encoded data removed]",
      "text/plain": [
       "<Figure size 640x480 with 2 Axes>"
      ]
     },
     "metadata": {},
     "output_type": "display_data"
    }
   ],
   "source": [
    "ax = sns.heatmap(error_by_score, cmap=\"crest\");\n",
    "ax.set(xlabel='error rank', \n",
    "       ylabel='score', \n",
    "       title = 'Процент ошибок в зависимсти от истинной оценки и ранга ошибки \\n')\n",
    "plt.show()"
   ]
  },
  {
   "cell_type": "markdown",
   "id": "bfde1e5d",
   "metadata": {},
   "source": [
    "Из графика видно, что модель достаточно плохо точно предсказывает оценку комментария, но даже процент расхождений больших 2 баллов очень мал, это значит, что модель довольно четко распознает тональность комментария. Так же можно заметить, что процент ошибок выше при крайних значениях оценки и ниже при серединных."
   ]
  },
  {
   "cell_type": "markdown",
   "id": "1dc9801d",
   "metadata": {},
   "source": [
    "### Преобразование вещественных предсказаний в  статус комментария (положительный или отрицательный)"
   ]
  },
  {
   "cell_type": "markdown",
   "id": "395bf6b8",
   "metadata": {},
   "source": [
    "Определение статуса комментария - это задача классификации, для ее решения требуются модели-классификаторы. Но я буду использовать лучшую модель (регрессионную), полученную при решении задачи оценивания комментария. Это обусловленно следующими пунктами:\n",
    "\n",
    "1. Модель должна быть встроенна в веб-сервис, она должна предсказывать достаточно быстро. Время предсказания одной моделью и оценки и статуса будет меньше, чем, если будут предсказывать две модели.\n",
    "\n",
    "2. Дополнительные исследования качества лучшей модели показали, что она довольно хорошо определяет тональность комментария.\n",
    "\n",
    "3. Экономия времени подбора гиперпараметров и типа  модели."
   ]
  },
  {
   "cell_type": "code",
   "execution_count": 112,
   "id": "c601d00a",
   "metadata": {},
   "outputs": [],
   "source": [
    "def get_status(y):\n",
    "    return y > 5.5"
   ]
  },
  {
   "cell_type": "markdown",
   "id": "2470cfcd",
   "metadata": {},
   "source": [
    "get_status - функция принимает вектор оценок и выдает вектор статусов. Для оценок <= 5.5 - статус будет отрицательным (значение 0), для оценок > 5.5 - статус будет положительным (значение 1). "
   ]
  },
  {
   "cell_type": "markdown",
   "id": "292a9c0b",
   "metadata": {},
   "source": [
    "Так как дизбаланса классов нет, соотношение положительных и отрицательных статусов в выборках 1:1, то в качестве метрики можно выбрать accuracy - отношение правильно предсказанных записей ко всем записям."
   ]
  },
  {
   "cell_type": "code",
   "execution_count": 117,
   "id": "2fab84d3",
   "metadata": {},
   "outputs": [
    {
     "name": "stdout",
     "output_type": "stream",
     "text": [
      "Accuracy лучшей модели на обучающей выборке: 0.99108\n",
      "Accuracy лучшей модели на тестовой выборке: 0.87832\n"
     ]
    }
   ],
   "source": [
    "print('Accuracy лучшей модели на обучающей выборке:', \n",
    "      accuracy_score(get_status(y_train), get_status(best_model.predict(X_train))))\n",
    "print('Accuracy лучшей модели на тестовой выборке:', \n",
    "      accuracy_score(get_status(y_test), get_status(best_model.predict(X_test))))"
   ]
  },
  {
   "cell_type": "code",
   "execution_count": 118,
   "id": "71906448",
   "metadata": {},
   "outputs": [
    {
     "name": "stdout",
     "output_type": "stream",
     "text": [
      "Accuracy \"наивной\" модели на тестовой выборке: 0.5\n"
     ]
    }
   ],
   "source": [
    "print('Accuracy \"наивной\" модели на тестовой выборке:', \n",
    "accuracy_score(get_status(y_test), get_status(DummyRegressor().fit(X_train, y_train).predict(X_test))))"
   ]
  },
  {
   "cell_type": "markdown",
   "id": "55b95a85",
   "metadata": {},
   "source": [
    "Лучшая модель дала хороший результат accuracy на тесте, он превышает результат \"наивной\" модели на 38%."
   ]
  }
 ],
 "metadata": {
  "kernelspec": {
   "display_name": "Python 3 (ipykernel)",
   "language": "python",
   "name": "python3"
  },
  "language_info": {
   "codemirror_mode": {
    "name": "ipython",
    "version": 3
   },
   "file_extension": ".py",
   "mimetype": "text/x-python",
   "name": "python",
   "nbconvert_exporter": "python",
   "pygments_lexer": "ipython3",
   "version": "3.9.16"
  },
  "toc": {
   "base_numbering": 1,
   "nav_menu": {},
   "number_sections": true,
   "sideBar": true,
   "skip_h1_title": true,
   "title_cell": "Table of Contents",
   "title_sidebar": "Contents",
   "toc_cell": true,
   "toc_position": {},
   "toc_section_display": true,
   "toc_window_display": false
  }
 },
 "nbformat": 4,
 "nbformat_minor": 5
}
